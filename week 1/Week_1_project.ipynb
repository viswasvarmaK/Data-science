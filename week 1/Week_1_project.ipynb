{
  "nbformat": 4,
  "nbformat_minor": 0,
  "metadata": {
    "kernelspec": {
      "name": "python3",
      "display_name": "Python 3"
    },
    "colab": {
      "name": "Week_1_project.ipynb",
      "version": "0.3.2",
      "provenance": []
    }
  },
  "cells": [
    {
      "cell_type": "markdown",
      "metadata": {
        "id": "NLpAZCrEpy_M",
        "colab_type": "text"
      },
      "source": [
        "# CS 109A/STAT 121A/AC 209A/CSCI E-109A: Homework 1\n",
        "\n",
        "\n",
        "\n",
        "**Harvard University**<br/>\n",
        "**Fall 2017**<br/>\n",
        "**Instructors**: Pavlos Protopapas, Kevin Rader, Rahul Dave, Margo Levine\n",
        "\n",
        "---\n",
        "\n",
        "### INSTRUCTIONS\n",
        "\n",
        "**WARNING**: There is web page scraping in this homework. It takes about 40 minutes. **Do not wait till the last minute** to do this homework.\n",
        "\n",
        "- To submit your assignment follow the instructions given in canvas.\n",
        "- Restart the kernel and run the whole notebook again before you submit. There is an important CAVEAT to this. DO NOT run the web-page fetching cells again. (We have provided hints like `# DO NOT RERUN THIS CELL WHEN SUBMITTING` on some of the cells where we provide the code). Instead load your data structures from the JSON files we will ask you to save below. Otherwise you will be waiting for a long time. (Another reason to not wait until the last moment to submit.)\n",
        "\n",
        "- Do not include your name in the notebook.\n",
        "\n",
        "---"
      ]
    },
    {
      "cell_type": "markdown",
      "metadata": {
        "id": "eKCT6HHtpy_P",
        "colab_type": "text"
      },
      "source": [
        "# Homework 1: Rihanna or Mariah?"
      ]
    },
    {
      "cell_type": "markdown",
      "metadata": {
        "id": "RsylZhd1py_T",
        "colab_type": "text"
      },
      "source": [
        "Billboard Magazine puts out a top 100 list of \"singles\" every week. Information from this list, as well as that from music sales, radio, and other sources is used to determine a top-100 \"singles\" of the year list. A **single** is typically one song, but sometimes can be two songs which are on one \"single\" record.\n",
        "\n",
        "In this homework you will: \n",
        "\n",
        "1. Scrape Wikipedia to obtain infprmation about the best singers and groups from each year (distinguishing between the two groups) as determined by the Billboard top 100 charts. You will have to clean this data. Along the way you will learn how to save data in json files to avoid repeated scraping. \n",
        "2. Scrape Wikipedia to obtain information on these singers. You will have to scrape the web pages, this time using a cache to guard against network timeouts (or your laptop going to sleep). You will again clean the data, and save it to a json file.\n",
        "3. Use pandas to represent these two datasets and merge them.\n",
        "4. Use the individual and merged datasets to visualize the performance of the artists and their songs. We have kept the amount of analysis limited here for reasons of time; but you might enjoy exploring music genres and other aspects of the music business you can find on these wikipedia pages at your own leisure."
      ]
    },
    {
      "cell_type": "markdown",
      "metadata": {
        "id": "OtwP-WEWpy_V",
        "colab_type": "text"
      },
      "source": [
        "You should have worked through Lab0 and Lab 1, and Lecture 2.  Lab 2 will help as well."
      ]
    },
    {
      "cell_type": "markdown",
      "metadata": {
        "id": "8zVGe8IQpy_W",
        "colab_type": "text"
      },
      "source": [
        "As usual, first we import the necessary libraries.  In particular, we use [Seaborn](http://stanford.edu/~mwaskom/software/seaborn/) to give us a nicer default color palette, with our plots being of large (`poster`) size and with a white-grid background. "
      ]
    },
    {
      "cell_type": "code",
      "metadata": {
        "scrolled": false,
        "id": "YyJbuiqTpy_Y",
        "colab_type": "code",
        "colab": {}
      },
      "source": [
        "%matplotlib inline\n",
        "import numpy as np\n",
        "import scipy as sp\n",
        "import matplotlib as mpl\n",
        "import matplotlib.cm as cm\n",
        "import matplotlib.pyplot as plt\n",
        "import pandas as pd\n",
        "import time\n",
        "pd.set_option('display.width', 500)\n",
        "pd.set_option('display.max_columns', 100)\n",
        "pd.set_option('display.notebook_repr_html', True)\n",
        "import seaborn as sns\n",
        "sns.set_style(\"whitegrid\")\n",
        "sns.set_context(\"poster\")"
      ],
      "execution_count": 0,
      "outputs": []
    },
    {
      "cell_type": "markdown",
      "metadata": {
        "id": "qinsYtdzpy_e",
        "colab_type": "text"
      },
      "source": [
        "## Q1. Scraping Wikipedia for Billboard Top 100."
      ]
    },
    {
      "cell_type": "markdown",
      "metadata": {
        "id": "Rl3bjKhqpy_f",
        "colab_type": "text"
      },
      "source": [
        "In this question you will scrape Wikipedia for the Billboard's top 100 singles."
      ]
    },
    {
      "cell_type": "markdown",
      "metadata": {
        "id": "5RAOrWbTpy_g",
        "colab_type": "text"
      },
      "source": [
        "### Scraping Wikipedia for Billboard singles"
      ]
    },
    {
      "cell_type": "markdown",
      "metadata": {
        "id": "sp6oqCZrpy_h",
        "colab_type": "text"
      },
      "source": [
        "We'll be using  [BeautifulSoup](http://www.crummy.com/software/BeautifulSoup/), and suggest that you use Python's built in `requests` library to fetch the web page."
      ]
    },
    {
      "cell_type": "markdown",
      "metadata": {
        "colab_type": "text",
        "id": "Whdkm4C8qMCx"
      },
      "source": [
        "#### 1.1 Parsing the Billboard Wikipedia page for 1970"
      ]
    },
    {
      "cell_type": "markdown",
      "metadata": {
        "colab_type": "text",
        "id": "L86ROA1kqMCz"
      },
      "source": [
        "Obtain the web page at http://en.wikipedia.org/wiki/Billboard_Year-End_Hot_100_singles_of_1970 using a HTTP GET request. From this web page we'll extract the top 100 singles and their rankings. Create a list of dictionaries, 100 of them to be precise, with entries like \n",
        "\n",
        "`{'url': '/wiki/Sugarloaf_(band)', 'ranking': 30, 'band_singer': 'Sugarloaf', 'title': 'Green-Eyed Lady'}`. \n",
        "\n",
        "If you look at that web page, you'll see a link for every song, from which you can get the `url` of the singer or band. We will use these links later to scrape information about the singer or band. From the listing we can also get the band or singer name `band_singer`, and `title` of the song.\n",
        "\n",
        "*HINT: look for a table with class `wikitable`.*"
      ]
    },
    {
      "cell_type": "markdown",
      "metadata": {
        "scrolled": true,
        "colab_type": "text",
        "id": "-7SEV0ggqMC0"
      },
      "source": [
        "You should get something similar to this (where songs is the aforementioned list):\n",
        "\n",
        "```\n",
        "songs[2:4]\n",
        "```\n",
        "\n",
        "```\n",
        "[{'band_singer': 'The Guess Who',\n",
        "  'ranking': 3,\n",
        "  'title': '\"American Woman\"',\n",
        "  'url': '/wiki/The_Guess_Who'},\n",
        " {'band_singer': 'B.J. Thomas',\n",
        "  'ranking': 4,\n",
        "  'title': '\"Raindrops Keep Fallin\\' on My Head\"',\n",
        "  'url': '/wiki/B.J._Thomas'}]\n",
        "```"
      ]
    },
    {
      "cell_type": "code",
      "metadata": {
        "id": "LIKcuxhwqlen",
        "colab_type": "code",
        "outputId": "f70edda3-8cb1-443b-fae7-186f4ae4ecc1",
        "colab": {
          "base_uri": "https://localhost:8080/",
          "height": 33
        }
      },
      "source": [
        "import requests\n",
        "\n",
        "req = requests.get(\"https://en.wikipedia.org/wiki/Billboard_Year-End_Hot_100_singles_of_1970\")"
      ],
      "execution_count": 0,
      "outputs": [
        {
          "output_type": "execute_result",
          "data": {
            "text/plain": [
              "requests.models.Response"
            ]
          },
          "metadata": {
            "tags": []
          },
          "execution_count": 7
        }
      ]
    },
    {
      "cell_type": "code",
      "metadata": {
        "id": "_UsepmYIq-Dq",
        "colab_type": "code",
        "colab": {}
      },
      "source": [
        "from bs4 import BeautifulSoup\n",
        "page = req.text\n",
        "soup = BeautifulSoup(page, 'html.parser')\n",
        "soup.table[\"class\"]\n",
        "\n",
        "table_html = soup.find('table', attrs={'class':'wikitable sortable'})\n",
        "\n"
      ],
      "execution_count": 0,
      "outputs": []
    },
    {
      "cell_type": "code",
      "metadata": {
        "id": "GcjXLblZx6N4",
        "colab_type": "code",
        "colab": {
          "base_uri": "https://localhost:8080/",
          "height": 53
        },
        "outputId": "c63cbff0-3af9-4da3-aa98-23e80460b6f9"
      },
      "source": [
        "songs_list = []\n",
        "\n",
        "table_row_list = table_html.find_all('tr')\n",
        "table_rows = table_row_list[1:] \n",
        "table_rows\n",
        "\n",
        "for row in table_rows:\n",
        "#     print(row)\n",
        "    table_row_values = row.find_all('td')\n",
        "    \n",
        "#     print(table_cols)\n",
        "    \n",
        "    ranking = table_row_values[0].get_text()\n",
        "    title = table_row_values[1].get_text()\n",
        "    band_singer = table_row_values[2].get_text().replace(\"\\n\",\"\")\n",
        "    \n",
        "    url = table_row_values[1].a[\"href\"]\n",
        "    \n",
        "    dic = {'band_singer': band_singer,\n",
        "           'ranking': ranking,\n",
        "           'title': title,\n",
        "           'url': url}\n",
        "    songs_list.append(dic)\n",
        "print(songs_list[2:4])\n"
      ],
      "execution_count": 42,
      "outputs": [
        {
          "output_type": "stream",
          "text": [
            "[{'band_singer': 'The Guess Who', 'ranking': '3', 'title': '\"American Woman\"', 'url': '/wiki/American_Woman'}, {'band_singer': 'B.J. Thomas', 'ranking': '4', 'title': '\"Raindrops Keep Fallin\\' on My Head\"', 'url': '/wiki/Raindrops_Keep_Fallin%27_on_My_Head'}]\n"
          ],
          "name": "stdout"
        }
      ]
    },
    {
      "cell_type": "markdown",
      "metadata": {
        "colab_type": "text",
        "id": "6WniMO_sqKmd"
      },
      "source": [
        "#### 1.1 Parsing the Billboard Wikipedia page for 1970"
      ]
    },
    {
      "cell_type": "markdown",
      "metadata": {
        "colab_type": "text",
        "id": "VzlaSZ5yqKmh"
      },
      "source": [
        "Obtain the web page at http://en.wikipedia.org/wiki/Billboard_Year-End_Hot_100_singles_of_1970 using a HTTP GET request. From this web page we'll extract the top 100 singles and their rankings. Create a list of dictionaries, 100 of them to be precise, with entries like \n",
        "\n",
        "`{'url': '/wiki/Sugarloaf_(band)', 'ranking': 30, 'band_singer': 'Sugarloaf', 'title': 'Green-Eyed Lady'}`. \n",
        "\n",
        "If you look at that web page, you'll see a link for every song, from which you can get the `url` of the singer or band. We will use these links later to scrape information about the singer or band. From the listing we can also get the band or singer name `band_singer`, and `title` of the song.\n",
        "\n",
        "*HINT: look for a table with class `wikitable`.*"
      ]
    },
    {
      "cell_type": "markdown",
      "metadata": {
        "scrolled": true,
        "colab_type": "text",
        "id": "-WBES4HgqKmk"
      },
      "source": [
        "You should get something similar to this (where songs is the aforementioned list):\n",
        "\n",
        "```\n",
        "songs[2:4]\n",
        "```\n",
        "\n",
        "```\n",
        "[{'band_singer': 'The Guess Who',\n",
        "  'ranking': 3,\n",
        "  'title': '\"American Woman\"',\n",
        "  'url': '/wiki/The_Guess_Who'},\n",
        " {'band_singer': 'B.J. Thomas',\n",
        "  'ranking': 4,\n",
        "  'title': '\"Raindrops Keep Fallin\\' on My Head\"',\n",
        "  'url': '/wiki/B.J._Thomas'}]\n",
        "```"
      ]
    },
    {
      "cell_type": "markdown",
      "metadata": {
        "id": "75KRnuVXpy_m",
        "colab_type": "text"
      },
      "source": [
        "#### 1.2 Generalize the previous: scrape Wikipedia from 1992 to 2014"
      ]
    },
    {
      "cell_type": "code",
      "metadata": {
        "id": "cpZ1HqYc8Ien",
        "colab_type": "code",
        "colab": {}
      },
      "source": [
        "years = {}\n",
        "\n",
        "for y in range(1992,2015):\n",
        "    st = \"https://en.wikipedia.org/wiki/Billboard_Year-End_Hot_100_singles_of_\"+ str(y)\n",
        "    temp_req = requests.get(st)\n",
        "    years[y] = temp_req.text\n",
        "  "
      ],
      "execution_count": 0,
      "outputs": []
    },
    {
      "cell_type": "code",
      "metadata": {
        "id": "gHMxaMVa8H4N",
        "colab_type": "code",
        "colab": {}
      },
      "source": [
        ""
      ],
      "execution_count": 0,
      "outputs": []
    },
    {
      "cell_type": "markdown",
      "metadata": {
        "id": "G5B0RjXLpy_n",
        "colab_type": "text"
      },
      "source": [
        "By visiting the urls similar to the ones for 1970, we can obtain the billboard top 100 for the years 1992 to 2014. (We choose these later years rather than 1970 as you might find music from this era more interesting.) Download these using Python's `requests` module and store the text from those requests in a dictionary called `yearstext`. This dictionary ought to have as its keys the years (as integers from 1992 to 2014), and as values corresponding to these keys the text of the page being fetched.\n",
        "\n",
        "You ought to sleep a second (look up `time.sleep` in Python) at the very least in-between fetching each web page: you do not want Wikipedia to think you are a marauding bot attempting to mount a denial-of-service attack."
      ]
    },
    {
      "cell_type": "markdown",
      "metadata": {
        "id": "xGAQmsP7py_n",
        "colab_type": "text"
      },
      "source": [
        "*HINT: you might find `range` and string-interpolation useful to construct the URLs *.\n"
      ]
    },
    {
      "cell_type": "markdown",
      "metadata": {
        "id": "rHARMAqDpy_o",
        "colab_type": "text"
      },
      "source": [
        "#### 1.3 Parse and Clean data "
      ]
    },
    {
      "cell_type": "markdown",
      "metadata": {
        "id": "VQNZkoDfpy_p",
        "colab_type": "text"
      },
      "source": [
        "Remember the code you wrote to get data from 1970 which produces a list of dictionaries, one corresponding to each single.  Now write a function `parse_year(the_year, yeartext_dict)` which takes the year, prints it out, gets the text for the year from the just created `yearstext` dictionary, and return a list of dictionaries for that year, with one dictionary for each single. Store this list in the variable `yearinfo`.\n",
        "\n",
        "The dictionaries **must** be of this form:\n",
        "\n",
        "```\n",
        "{'band_singer': ['Brandy', 'Monica'],\n",
        "  'ranking': 2,\n",
        "  'song': ['The Boy Is Mine'],\n",
        "  'songurl': ['/wiki/The_Boy_Is_Mine_(song)'],\n",
        "  'titletext': '\" The Boy Is Mine \"',\n",
        "  'url': ['/wiki/Brandy_Norwood', '/wiki/Monica_(entertainer)']}\n",
        "```"
      ]
    },
    {
      "cell_type": "markdown",
      "metadata": {
        "id": "IoBg56Tmpy_q",
        "colab_type": "text"
      },
      "source": [
        "The spec of this function is provided below:"
      ]
    },
    {
      "cell_type": "code",
      "metadata": {
        "id": "n5JIB-84py_q",
        "colab_type": "code",
        "colab": {}
      },
      "source": [
        "\"\"\"\n",
        "Function\n",
        "--------\n",
        "parse_year\n",
        "\n",
        "Inputs\n",
        "------\n",
        "the_year: the year you want the singles for\n",
        "yeartext_dict: a dictionary with keys as integer years and values the downloaded web pages \n",
        "    from wikipedia for that year.\n",
        "   \n",
        "Returns\n",
        "-------\n",
        "\n",
        "a list of dictionaries, each of which corresponds to a single and has the\n",
        "following data:\n",
        "\n",
        "Eg:\n",
        "\n",
        "{'band_singer': ['Brandy', 'Monica'],\n",
        "  'ranking': 2,\n",
        "  'song': ['The Boy Is Mine'],\n",
        "  'songurl': ['/wiki/The_Boy_Is_Mine_(song)'],\n",
        "  'titletext': '\" The Boy Is Mine \"',\n",
        "  'url': ['/wiki/Brandy_Norwood', '/wiki/Monica_(entertainer)']}\n",
        "  \n",
        "A dictionary with the following data:\n",
        "    band_singer: a list of bands/singers who made this single\n",
        "    song: a list of the titles of songs on this single\n",
        "    songurl: a list of the same size as song which has urls for the songs on the single \n",
        "        (see point 3 above)\n",
        "    ranking: ranking of the single\n",
        "    titletext: the contents of the table cell\n",
        "    band_singer: a list of bands or singers on this single\n",
        "    url: a list of wikipedia singer/band urls on this single: only put in the part \n",
        "        of the url from /wiki onwards\n",
        "    \n",
        "\n",
        "Notes\n",
        "-----\n",
        "See description and example above.\n",
        "\"\"\"\n",
        "def parse_year(the_year, yeartext_dict):\n",
        "    year = the_year\n",
        "    yearinfo = []\n",
        "    song = []\n",
        "    songurl = []\n",
        "    band_singer = []\n",
        "    title = []\n",
        "    url = []\n",
        "    title_text = ''\n",
        "    i = 0\n",
        "    title_string = ''\n",
        "    band_singer = ''\n",
        "    soup = BeautifulSoup(years[year], \"lxml\")\n",
        "    tables = soup.find('table', attrs={'class':'wikitable sortable'})        \n",
        "    #iterates through tree structure, scraping our data\n",
        "    tr_list = tables.find_all('tr')    \n",
        "    for tr in tr_list:\n",
        "        td_list = tr.find_all('td')\n",
        "        if td_list == [] :\n",
        "            td_list = []\n",
        "        else : \n",
        "            ranking = tr.th.string\n",
        "            links = tr.td.findAll('a')\n",
        "            number_of_links = len(links)   \n",
        "            if number_of_links == 0:\n",
        "                songurl = [None]\n",
        "                title_text = [a['title']]\n",
        "                song.append(a['title'] )\n",
        "            else :\n",
        "                i = 0\n",
        "                for a in tr.td.findAll('a') : \n",
        "                    song.append(a['title'] )\n",
        "                    title_string = '\\\"' + a['title'] + '\\\"'    \n",
        "                    if i == 0 :\n",
        "                        title_text = title_string\n",
        "                        i = i + 1\n",
        "                    else :\n",
        "                        title_text = title_text + ' / ' + title_string\n",
        "                        i = i + 1    \n",
        "                    songurl.append(a['href'])\n",
        "            title = song\n",
        "            #finds next td tag\n",
        "            tr.td.findNext('td') \n",
        "            temp = len(tr.td.findNext('td').findAll('a'))\n",
        "            if temp == 0:\n",
        "                singer_url = [None]\n",
        "                band_singer = tr.td.findNext('td').string\n",
        "                band_singer = [band_singer]\n",
        "            elif temp == 1:\n",
        "                singer_url = tr.td.findNext('td').a['href']\n",
        "                singer_url = [singer_url]\n",
        "                band_singer = tr.td.findNext('td').a.string\n",
        "                band_singer = [band_singer]\n",
        "            else:\n",
        "                singer_url = []\n",
        "                band_singer = []\n",
        "                for a in tr.td.findNext('td').findAll('a'):\n",
        "                    webpage = a['href']\n",
        "                    singer_url.append(webpage)\n",
        "                    band_singer.append(a.string)            \n",
        "            #creates dictionary entry                   \n",
        "            dict_entry = {'band_singer' : band_singer,\n",
        "            'ranking' : ranking.replace(\"\\n\",\"\"),\n",
        "            'song' : title, 'songurl': songurl, 'titletext' : title_text,\n",
        "            'url' : singer_url}\n",
        "            #appends new dictionary to our list\n",
        "            yearinfo.append(dict_entry)      \n",
        "            songurl = []\n",
        "            song = []\n",
        "            title_string = ''\n",
        "            title_text = ''    \n",
        "    return(yearinfo)\n",
        "  \n",
        "  \n",
        "  \n",
        "  \n",
        "  \n",
        "  \n",
        "  \n",
        "  \n",
        "  \n",
        "  \n",
        "  \n",
        "  \n",
        "  \n",
        "  \n",
        "  \n",
        "  \n",
        "  \n",
        "  "
      ],
      "execution_count": 0,
      "outputs": []
    },
    {
      "cell_type": "code",
      "metadata": {
        "id": "7HINDkxHYwjc",
        "colab_type": "code",
        "colab": {
          "base_uri": "https://localhost:8080/",
          "height": 53
        },
        "outputId": "33069660-2967-40dd-9832-db9946ddfd22"
      },
      "source": [
        "years_info = {}\n",
        "for y in range(1992,2005):\n",
        "  years_info.update({y: parse_year(y,years)})\n",
        "  \n",
        "print(years_info[1997])"
      ],
      "execution_count": 57,
      "outputs": [
        {
          "output_type": "stream",
          "text": [
            "[{'band_singer': ['Elton John'], 'ranking': '1', 'song': ['Something About the Way You Look Tonight', 'Candle in the Wind 1997'], 'songurl': ['/wiki/Something_About_the_Way_You_Look_Tonight', '/wiki/Candle_in_the_Wind_1997'], 'titletext': '\"Something About the Way You Look Tonight\" / \"Candle in the Wind 1997\"', 'url': ['/wiki/Elton_John']}, {'band_singer': ['Jewel'], 'ranking': '2', 'song': ['Foolish Games', 'You Were Meant for Me (Jewel song)'], 'songurl': ['/wiki/Foolish_Games', '/wiki/You_Were_Meant_for_Me_(Jewel_song)'], 'titletext': '\"Foolish Games\" / \"You Were Meant for Me (Jewel song)\"', 'url': ['/wiki/Jewel_(singer)']}, {'band_singer': ['Puff Daddy', 'Faith Evans', '112'], 'ranking': '3', 'song': [\"I'll Be Missing You\"], 'songurl': ['/wiki/I%27ll_Be_Missing_You'], 'titletext': '\"I\\'ll Be Missing You\"', 'url': ['/wiki/Sean_Combs', '/wiki/Faith_Evans', '/wiki/112_(band)']}, {'band_singer': ['Toni Braxton'], 'ranking': '4', 'song': ['Un-Break My Heart'], 'songurl': ['/wiki/Un-Break_My_Heart'], 'titletext': '\"Un-Break My Heart\"', 'url': ['/wiki/Toni_Braxton']}, {'band_singer': ['Puff Daddy', 'Mase'], 'ranking': '5', 'song': [\"Can't Nobody Hold Me Down\"], 'songurl': ['/wiki/Can%27t_Nobody_Hold_Me_Down'], 'titletext': '\"Can\\'t Nobody Hold Me Down\"', 'url': ['/wiki/Sean_Combs', '/wiki/Mase']}, {'band_singer': ['R. Kelly'], 'ranking': '6', 'song': ['I Believe I Can Fly'], 'songurl': ['/wiki/I_Believe_I_Can_Fly'], 'titletext': '\"I Believe I Can Fly\"', 'url': ['/wiki/R._Kelly']}, {'band_singer': ['En Vogue'], 'ranking': '7', 'song': [\"Don't Let Go (Love)\"], 'songurl': ['/wiki/Don%27t_Let_Go_(Love)'], 'titletext': '\"Don\\'t Let Go (Love)\"', 'url': ['/wiki/En_Vogue']}, {'band_singer': ['Mark Morrison'], 'ranking': '8', 'song': ['Return of the Mack'], 'songurl': ['/wiki/Return_of_the_Mack'], 'titletext': '\"Return of the Mack\"', 'url': ['/wiki/Mark_Morrison']}, {'band_singer': ['LeAnn Rimes'], 'ranking': '9', 'song': ['How Do I Live'], 'songurl': ['/wiki/How_Do_I_Live'], 'titletext': '\"How Do I Live\"', 'url': ['/wiki/LeAnn_Rimes']}, {'band_singer': ['Spice Girls'], 'ranking': '10', 'song': ['Wannabe (song)'], 'songurl': ['/wiki/Wannabe_(song)'], 'titletext': '\"Wannabe (song)\"', 'url': ['/wiki/Spice_Girls']}, {'band_singer': ['Backstreet Boys'], 'ranking': '11', 'song': ['Quit Playing Games (With My Heart)'], 'songurl': ['/wiki/Quit_Playing_Games_(With_My_Heart)'], 'titletext': '\"Quit Playing Games (With My Heart)\"', 'url': ['/wiki/Backstreet_Boys']}, {'band_singer': ['Hanson'], 'ranking': '12', 'song': ['MMMBop'], 'songurl': ['/wiki/MMMBop'], 'titletext': '\"MMMBop\"', 'url': ['/wiki/Hanson_(band)']}, {'band_singer': ['Monica'], 'ranking': '13', 'song': ['For You I Will (Monica song)'], 'songurl': ['/wiki/For_You_I_Will_(Monica_song)'], 'titletext': '\"For You I Will (Monica song)\"', 'url': ['/wiki/Monica_(singer)']}, {'band_singer': ['Usher'], 'ranking': '14', 'song': ['You Make Me Wanna...'], 'songurl': ['/wiki/You_Make_Me_Wanna...'], 'titletext': '\"You Make Me Wanna...\"', 'url': ['/wiki/Usher_(entertainer)']}, {'band_singer': ['Meredith Brooks'], 'ranking': '15', 'song': ['Bitch (Meredith Brooks song)'], 'songurl': ['/wiki/Bitch_(Meredith_Brooks_song)'], 'titletext': '\"Bitch (Meredith Brooks song)\"', 'url': ['/wiki/Meredith_Brooks']}, {'band_singer': ['Keith Sweat', 'Athena Cage'], 'ranking': '16', 'song': ['Nobody (Keith Sweat song)'], 'songurl': ['/wiki/Nobody_(Keith_Sweat_song)'], 'titletext': '\"Nobody (Keith Sweat song)\"', 'url': ['/wiki/Keith_Sweat', '/wiki/Athena_Cage']}, {'band_singer': ['Third Eye Blind'], 'ranking': '17', 'song': ['Semi-Charmed Life'], 'songurl': ['/wiki/Semi-Charmed_Life'], 'titletext': '\"Semi-Charmed Life\"', 'url': ['/wiki/Third_Eye_Blind']}, {'band_singer': ['Duncan Sheik'], 'ranking': '18', 'song': ['Barely Breathing'], 'songurl': ['/wiki/Barely_Breathing'], 'titletext': '\"Barely Breathing\"', 'url': ['/wiki/Duncan_Sheik']}, {'band_singer': ['Az Yet', 'Peter Cetera'], 'ranking': '19', 'song': [\"Hard to Say I'm Sorry\"], 'songurl': ['/wiki/Hard_to_Say_I%27m_Sorry'], 'titletext': '\"Hard to Say I\\'m Sorry\"', 'url': ['/wiki/Az_Yet', '/wiki/Peter_Cetera']}, {'band_singer': ['The Notorious B.I.G.', 'Puff Daddy', 'Mase'], 'ranking': '20', 'song': ['Mo Money Mo Problems'], 'songurl': ['/wiki/Mo_Money_Mo_Problems'], 'titletext': '\"Mo Money Mo Problems\"', 'url': ['/wiki/The_Notorious_B.I.G.', '/wiki/Sean_Combs', '/wiki/Mase']}, {'band_singer': ['The Verve Pipe'], 'ranking': '21', 'song': ['The Freshmen (song)'], 'songurl': ['/wiki/The_Freshmen_(song)'], 'titletext': '\"The Freshmen (song)\"', 'url': ['/wiki/The_Verve_Pipe']}, {'band_singer': ['Savage Garden'], 'ranking': '22', 'song': ['I Want You (Savage Garden song)'], 'songurl': ['/wiki/I_Want_You_(Savage_Garden_song)'], 'titletext': '\"I Want You (Savage Garden song)\"', 'url': ['/wiki/Savage_Garden']}, {'band_singer': ['Blackstreet', 'Dr. Dre'], 'ranking': '23', 'song': ['No Diggity'], 'songurl': ['/wiki/No_Diggity'], 'titletext': '\"No Diggity\"', 'url': ['/wiki/Blackstreet', '/wiki/Dr._Dre']}, {'band_singer': ['Rome'], 'ranking': '24', 'song': ['I Belong to You (Every Time I See Your Face)'], 'songurl': ['/wiki/I_Belong_to_You_(Every_Time_I_See_Your_Face)'], 'titletext': '\"I Belong to You (Every Time I See Your Face)\"', 'url': ['/wiki/Rome_(musician)']}, {'band_singer': ['The Notorious B.I.G.'], 'ranking': '25', 'song': ['Hypnotize (The Notorious B.I.G. song)'], 'songurl': ['/wiki/Hypnotize_(The_Notorious_B.I.G._song)'], 'titletext': '\"Hypnotize (The Notorious B.I.G. song)\"', 'url': ['/wiki/The_Notorious_B.I.G.']}, {'band_singer': ['Babyface'], 'ranking': '26', 'song': ['Every Time I Close My Eyes'], 'songurl': ['/wiki/Every_Time_I_Close_My_Eyes'], 'titletext': '\"Every Time I Close My Eyes\"', 'url': ['/wiki/Babyface_(musician)']}, {'band_singer': ['Dru Hill'], 'ranking': '27', 'song': ['In My Bed'], 'songurl': ['/wiki/In_My_Bed'], 'titletext': '\"In My Bed\"', 'url': ['/wiki/Dru_Hill']}, {'band_singer': ['Spice Girls'], 'ranking': '28', 'song': [\"Say You'll Be There\"], 'songurl': ['/wiki/Say_You%27ll_Be_There'], 'titletext': '\"Say You\\'ll Be There\"', 'url': ['/wiki/Spice_Girls']}, {'band_singer': ['Robyn'], 'ranking': '29', 'song': ['Do You Know (What It Takes)'], 'songurl': ['/wiki/Do_You_Know_(What_It_Takes)'], 'titletext': '\"Do You Know (What It Takes)\"', 'url': ['/wiki/Robyn']}, {'band_singer': ['Boyz II Men'], 'ranking': '30', 'song': ['4 Seasons of Loneliness'], 'songurl': ['/wiki/4_Seasons_of_Loneliness'], 'titletext': '\"4 Seasons of Loneliness\"', 'url': ['/wiki/Boyz_II_Men']}, {'band_singer': ['Changing Faces'], 'ranking': '31', 'song': ['G.H.E.T.T.O.U.T.'], 'songurl': ['/wiki/G.H.E.T.T.O.U.T.'], 'titletext': '\"G.H.E.T.T.O.U.T.\"', 'url': ['/wiki/Changing_Faces_(group)']}, {'band_singer': ['Mariah Carey'], 'ranking': '32', 'song': ['Honey (Mariah Carey song)'], 'songurl': ['/wiki/Honey_(Mariah_Carey_song)'], 'titletext': '\"Honey (Mariah Carey song)\"', 'url': ['/wiki/Mariah_Carey']}, {'band_singer': ['Whitney Houston'], 'ranking': '33', 'song': ['I Believe in You and Me'], 'songurl': ['/wiki/I_Believe_in_You_and_Me'], 'titletext': '\"I Believe in You and Me\"', 'url': ['/wiki/Whitney_Houston']}, {'band_singer': ['Freak Nasty'], 'ranking': '34', 'song': [\"Da' Dip\"], 'songurl': ['/wiki/Da%27_Dip'], 'titletext': '\"Da\\' Dip\"', 'url': ['/wiki/Freak_Nasty']}, {'band_singer': ['Spice Girls'], 'ranking': '35', 'song': ['2 Become 1'], 'songurl': ['/wiki/2_Become_1'], 'titletext': '\"2 Become 1\"', 'url': ['/wiki/Spice_Girls']}, {'band_singer': ['Sister Hazel'], 'ranking': '36', 'song': ['All for You (Sister Hazel song)'], 'songurl': ['/wiki/All_for_You_(Sister_Hazel_song)'], 'titletext': '\"All for You (Sister Hazel song)\"', 'url': ['/wiki/Sister_Hazel']}, {'band_singer': ['112'], 'ranking': '37', 'song': ['Cupid (112 song)'], 'songurl': ['/wiki/Cupid_(112_song)'], 'titletext': '\"Cupid (112 song)\"', 'url': ['/wiki/112_(band)']}, {'band_singer': ['Paula Cole'], 'ranking': '38', 'song': ['Where Have All the Cowboys Gone?'], 'songurl': ['/wiki/Where_Have_All_the_Cowboys_Gone%3F'], 'titletext': '\"Where Have All the Cowboys Gone?\"', 'url': ['/wiki/Paula_Cole']}, {'band_singer': ['Shawn Colvin'], 'ranking': '39', 'song': ['Sunny Came Home'], 'songurl': ['/wiki/Sunny_Came_Home'], 'titletext': '\"Sunny Came Home\"', 'url': ['/wiki/Shawn_Colvin']}, {'band_singer': ['Tim McGraw', 'Faith Hill'], 'ranking': '40', 'song': [\"It's Your Love\"], 'songurl': ['/wiki/It%27s_Your_Love'], 'titletext': '\"It\\'s Your Love\"', 'url': ['/wiki/Tim_McGraw', '/wiki/Faith_Hill']}, {'band_singer': ['Gina G'], 'ranking': '41', 'song': ['Ooh Aah... Just a Little Bit'], 'songurl': ['/wiki/Ooh_Aah..._Just_a_Little_Bit'], 'titletext': '\"Ooh Aah... Just a Little Bit\"', 'url': ['/wiki/Gina_G']}, {'band_singer': ['Merril Bainbridge'], 'ranking': '42', 'song': ['Mouth (song)'], 'songurl': ['/wiki/Mouth_(song)'], 'titletext': '\"Mouth (song)\"', 'url': ['/wiki/Merril_Bainbridge']}, {'band_singer': ['Allure', '112'], 'ranking': '43', 'song': ['All Cried Out (Lisa Lisa & Cult Jam song)'], 'songurl': ['/wiki/All_Cried_Out_(Lisa_Lisa_%26_Cult_Jam_song)'], 'titletext': '\"All Cried Out (Lisa Lisa & Cult Jam song)\"', 'url': ['/wiki/Allure_(group)', '/wiki/112_(band)']}, {'band_singer': ['New Edition'], 'ranking': '44', 'song': [\"I'm Still in Love with You (New Edition song)\"], 'songurl': ['/wiki/I%27m_Still_in_Love_with_You_(New_Edition_song)'], 'titletext': '\"I\\'m Still in Love with You (New Edition song)\"', 'url': ['/wiki/New_Edition']}, {'band_singer': ['98 Degrees'], 'ranking': '45', 'song': ['Invisible Man (song)'], 'songurl': ['/wiki/Invisible_Man_(song)'], 'titletext': '\"Invisible Man (song)\"', 'url': ['/wiki/98_Degrees']}, {'band_singer': [\"Lil' Kim\", 'Da Brat', 'Left Eye', 'Missy Elliott', 'Angie Martinez'], 'ranking': '46', 'song': ['Not Tonight'], 'songurl': ['/wiki/Not_Tonight'], 'titletext': '\"Not Tonight\"', 'url': ['/wiki/Lil%27_Kim', '/wiki/Da_Brat', '/wiki/Lisa_Lopes', '/wiki/Missy_Elliott', '/wiki/Angie_Martinez']}, {'band_singer': ['Bone Thugs-n-Harmony'], 'ranking': '47', 'song': ['Look into My Eyes (Bone Thugs-n-Harmony song)'], 'songurl': ['/wiki/Look_into_My_Eyes_(Bone_Thugs-n-Harmony_song)'], 'titletext': '\"Look into My Eyes (Bone Thugs-n-Harmony song)\"', 'url': ['/wiki/Bone_Thugs-n-Harmony']}, {'band_singer': ['702'], 'ranking': '48', 'song': ['Get It Together (702 song)'], 'songurl': ['/wiki/Get_It_Together_(702_song)'], 'titletext': '\"Get It Together (702 song)\"', 'url': ['/wiki/702_(band)']}, {'band_singer': ['Celine Dion'], 'ranking': '49', 'song': ['All by Myself'], 'songurl': ['/wiki/All_by_Myself#Céline_Dion_version'], 'titletext': '\"All by Myself\"', 'url': ['/wiki/Celine_Dion']}, {'band_singer': ['Celine Dion'], 'ranking': '50', 'song': [\"It's All Coming Back to Me Now\"], 'songurl': ['/wiki/It%27s_All_Coming_Back_to_Me_Now'], 'titletext': '\"It\\'s All Coming Back to Me Now\"', 'url': ['/wiki/Celine_Dion']}, {'band_singer': [\"Somethin' for the People\", 'Trina & Tamara'], 'ranking': '51', 'song': ['My Love Is the Shhh!'], 'songurl': ['/wiki/My_Love_Is_the_Shhh!'], 'titletext': '\"My Love Is the Shhh!\"', 'url': ['/wiki/Somethin%27_for_the_People', '/wiki/Trina_%26_Tamara']}, {'band_singer': ['No Mercy'], 'ranking': '52', 'song': ['Where Do You Go (No Mercy song)'], 'songurl': ['/wiki/Where_Do_You_Go_(No_Mercy_song)'], 'titletext': '\"Where Do You Go (No Mercy song)\"', 'url': ['/wiki/No_Mercy_(pop_band)']}, {'band_singer': ['Barbra Streisand', 'Bryan Adams'], 'ranking': '53', 'song': ['I Finally Found Someone'], 'songurl': ['/wiki/I_Finally_Found_Someone'], 'titletext': '\"I Finally Found Someone\"', 'url': ['/wiki/Barbra_Streisand', '/wiki/Bryan_Adams']}, {'band_singer': ['Foxy Brown', 'Jay-Z'], 'ranking': '54', 'song': [\"I'll Be (Foxy Brown song)\"], 'songurl': ['/wiki/I%27ll_Be_(Foxy_Brown_song)'], 'titletext': '\"I\\'ll Be (Foxy Brown song)\"', 'url': ['/wiki/Foxy_Brown_(rapper)', '/wiki/Jay-Z']}, {'band_singer': ['Sheryl Crow'], 'ranking': '55', 'song': ['If It Makes You Happy'], 'songurl': ['/wiki/If_It_Makes_You_Happy'], 'titletext': '\"If It Makes You Happy\"', 'url': ['/wiki/Sheryl_Crow']}, {'band_singer': ['Dru Hill'], 'ranking': '56', 'song': ['Never Make a Promise'], 'songurl': ['/wiki/Never_Make_a_Promise'], 'titletext': '\"Never Make a Promise\"', 'url': ['/wiki/Dru_Hill']}, {'band_singer': ['Journey'], 'ranking': '57', 'song': ['When You Love a Woman'], 'songurl': ['/wiki/When_You_Love_a_Woman'], 'titletext': '\"When You Love a Woman\"', 'url': ['/wiki/Journey_(band)']}, {'band_singer': ['Timbaland & Magoo', 'Missy Elliott', 'Aaliyah'], 'ranking': '58', 'song': ['Up Jumps da Boogie'], 'songurl': ['/wiki/Up_Jumps_da_Boogie'], 'titletext': '\"Up Jumps da Boogie\"', 'url': ['/wiki/Timbaland_%26_Magoo', '/wiki/Missy_Elliott', '/wiki/Aaliyah']}, {'band_singer': ['Toni Braxton'], 'ranking': '59', 'song': [\"I Don't Want To\", 'I Love Me Some Him'], 'songurl': ['/wiki/I_Don%27t_Want_To', '/wiki/I_Love_Me_Some_Him'], 'titletext': '\"I Don\\'t Want To\" / \"I Love Me Some Him\"', 'url': ['/wiki/Toni_Braxton']}, {'band_singer': ['Sheryl Crow'], 'ranking': '60', 'song': ['Everyday Is a Winding Road'], 'songurl': ['/wiki/Everyday_Is_a_Winding_Road'], 'titletext': '\"Everyday Is a Winding Road\"', 'url': ['/wiki/Sheryl_Crow']}, {'band_singer': ['MC Lyte'], 'ranking': '61', 'song': ['Cold Rock a Party'], 'songurl': ['/wiki/Cold_Rock_a_Party'], 'titletext': '\"Cold Rock a Party\"', 'url': ['/wiki/MC_Lyte']}, {'band_singer': ['Ginuwine'], 'ranking': '62', 'song': ['Pony (Ginuwine song)'], 'songurl': ['/wiki/Pony_(Ginuwine_song)'], 'titletext': '\"Pony (Ginuwine song)\"', 'url': ['/wiki/Ginuwine']}, {'band_singer': ['Sarah McLachlan'], 'ranking': '63', 'song': ['Building a Mystery'], 'songurl': ['/wiki/Building_a_Mystery'], 'titletext': '\"Building a Mystery\"', 'url': ['/wiki/Sarah_McLachlan']}, {'band_singer': ['Donna Lewis'], 'ranking': '64', 'song': ['I Love You Always Forever'], 'songurl': ['/wiki/I_Love_You_Always_Forever'], 'titletext': '\"I Love You Always Forever\"', 'url': ['/wiki/Donna_Lewis']}, {'band_singer': ['White Town'], 'ranking': '65', 'song': ['Your Woman'], 'songurl': ['/wiki/Your_Woman'], 'titletext': '\"Your Woman\"', 'url': ['/wiki/White_Town']}, {'band_singer': ['Coolio'], 'ranking': '66', 'song': ['C U When U Get There'], 'songurl': ['/wiki/C_U_When_U_Get_There'], 'titletext': '\"C U When U Get There\"', 'url': ['/wiki/Coolio']}, {'band_singer': ['Eric Clapton'], 'ranking': '67', 'song': ['Change the World'], 'songurl': ['/wiki/Change_the_World'], 'titletext': '\"Change the World\"', 'url': ['/wiki/Eric_Clapton']}, {'band_singer': ['B-Rock and the Bizz'], 'ranking': '68', 'song': ['My Baby Daddy'], 'songurl': ['/wiki/My_Baby_Daddy'], 'titletext': '\"My Baby Daddy\"', 'url': ['/wiki/B-Rock_and_the_Bizz']}, {'band_singer': ['Chumbawamba'], 'ranking': '69', 'song': ['Tubthumping'], 'songurl': ['/wiki/Tubthumping'], 'titletext': '\"Tubthumping\"', 'url': ['/wiki/Chumbawamba']}, {'band_singer': ['R. Kelly'], 'ranking': '70', 'song': ['Gotham City (song)'], 'songurl': ['/wiki/Gotham_City_(song)'], 'titletext': '\"Gotham City (song)\"', 'url': ['/wiki/R._Kelly']}, {'band_singer': ['Az Yet'], 'ranking': '71', 'song': ['Last Night (Az Yet song)'], 'songurl': ['/wiki/Last_Night_(Az_Yet_song)'], 'titletext': '\"Last Night (Az Yet song)\"', 'url': ['/wiki/Az_Yet']}, {'band_singer': ['Various Artists\\n'], 'ranking': '72', 'song': ['Jock Jam'], 'songurl': ['/wiki/Jock_Jam'], 'titletext': '\"Jock Jam\"', 'url': [None]}, {'band_singer': ['Heavy D'], 'ranking': '73', 'song': ['Big Daddy (song)'], 'songurl': ['/wiki/Big_Daddy_(song)'], 'titletext': '\"Big Daddy (song)\"', 'url': ['/wiki/Heavy_D']}, {'band_singer': ['Total'], 'ranking': '74', 'song': ['What About Us? (Total song)'], 'songurl': ['/wiki/What_About_Us%3F_(Total_song)'], 'titletext': '\"What About Us? (Total song)\"', 'url': ['/wiki/Total_(band)']}, {'band_singer': ['Scarface', '2Pac'], 'ranking': '75', 'song': ['Smile (Scarface song)'], 'songurl': ['/wiki/Smile_(Scarface_song)'], 'titletext': '\"Smile (Scarface song)\"', 'url': ['/wiki/Scarface_(rapper)', '/wiki/Tupac_Shakur']}, {'band_singer': ['Montell Jordan'], 'ranking': '76', 'song': [\"What's on Tonight\"], 'songurl': ['/wiki/What%27s_on_Tonight'], 'titletext': '\"What\\'s on Tonight\"', 'url': ['/wiki/Montell_Jordan']}, {'band_singer': ['Bruce Springsteen'], 'ranking': '77', 'song': ['Secret Garden (Bruce Springsteen song)'], 'songurl': ['/wiki/Secret_Garden_(Bruce_Springsteen_song)'], 'titletext': '\"Secret Garden (Bruce Springsteen song)\"', 'url': ['/wiki/Bruce_Springsteen']}, {'band_singer': ['Aaliyah'], 'ranking': '78', 'song': ['The One I Gave My Heart To'], 'songurl': ['/wiki/The_One_I_Gave_My_Heart_To'], 'titletext': '\"The One I Gave My Heart To\"', 'url': ['/wiki/Aaliyah']}, {'band_singer': ['Seal'], 'ranking': '79', 'song': ['Fly Like an Eagle (song)'], 'songurl': ['/wiki/Fly_Like_an_Eagle_(song)#Cover_versions'], 'titletext': '\"Fly Like an Eagle (song)\"', 'url': ['/wiki/Seal_(musician)']}, {'band_singer': [\"Lil' Kim\", 'Puff Daddy'], 'ranking': '80', 'song': [\"No Time (Lil' Kim song)\"], 'songurl': ['/wiki/No_Time_(Lil%27_Kim_song)'], 'titletext': '\"No Time (Lil\\' Kim song)\"', 'url': ['/wiki/Lil%27_Kim', '/wiki/Sean_Combs']}, {'band_singer': ['Luscious Jackson'], 'ranking': '81', 'song': ['Naked Eye (song)'], 'songurl': ['/wiki/Naked_Eye_(song)'], 'titletext': '\"Naked Eye (song)\"', 'url': ['/wiki/Luscious_Jackson']}, {'band_singer': ['Los del Río'], 'ranking': '82', 'song': ['Macarena (song)'], 'songurl': ['/wiki/Macarena_(song)'], 'titletext': '\"Macarena (song)\"', 'url': ['/wiki/Los_del_R%C3%ADo']}, {'band_singer': ['Erykah Badu'], 'ranking': '83', 'song': ['On & On (Erykah Badu song)'], 'songurl': ['/wiki/On_%26_On_(Erykah_Badu_song)'], 'titletext': '\"On & On (Erykah Badu song)\"', 'url': ['/wiki/Erykah_Badu']}, {'band_singer': ['Joe'], 'ranking': '84', 'song': [\"Don't Wanna Be a Player\"], 'songurl': ['/wiki/Don%27t_Wanna_Be_a_Player'], 'titletext': '\"Don\\'t Wanna Be a Player\"', 'url': ['/wiki/Joe_(singer)']}, {'band_singer': ['Warren G'], 'ranking': '85', 'song': ['I Shot the Sheriff (Warren G song)'], 'songurl': ['/wiki/I_Shot_the_Sheriff_(Warren_G_song)'], 'titletext': '\"I Shot the Sheriff (Warren G song)\"', 'url': ['/wiki/Warren_G']}, {'band_singer': ['Brian McKnight', 'Mase'], 'ranking': '86', 'song': [\"You Should Be Mine (Don't Waste Your Time)\"], 'songurl': ['/wiki/You_Should_Be_Mine_(Don%27t_Waste_Your_Time)'], 'titletext': '\"You Should Be Mine (Don\\'t Waste Your Time)\"', 'url': ['/wiki/Brian_McKnight', '/wiki/Mase']}, {'band_singer': ['Madonna'], 'ranking': '87', 'song': [\"Don't Cry for Me Argentina\"], 'songurl': ['/wiki/Don%27t_Cry_for_Me_Argentina'], 'titletext': '\"Don\\'t Cry for Me Argentina\"', 'url': ['/wiki/Madonna_(entertainer)']}, {'band_singer': ['SWV', 'Puff Daddy'], 'ranking': '88', 'song': [\"Don't Cry for Me Argentina\"], 'songurl': [None], 'titletext': [\"Don't Cry for Me Argentina\"], 'url': ['/wiki/SWV', '/wiki/Sean_Combs']}, {'band_singer': ['Michael Bolton'], 'ranking': '89', 'song': ['Go the Distance'], 'songurl': ['/wiki/Go_the_Distance'], 'titletext': '\"Go the Distance\"', 'url': ['/wiki/Michael_Bolton']}, {'band_singer': ['Real McCoy'], 'ranking': '90', 'song': ['One More Time (Real McCoy song)'], 'songurl': ['/wiki/One_More_Time_(Real_McCoy_song)'], 'titletext': '\"One More Time (Real McCoy song)\"', 'url': ['/wiki/Real_McCoy_(band)']}, {'band_singer': ['Next'], 'ranking': '91', 'song': ['One More Time (Real McCoy song)'], 'songurl': [None], 'titletext': ['One More Time (Real McCoy song)'], 'url': ['/wiki/Next_(group)']}, {'band_singer': ['Mr. President'], 'ranking': '92', 'song': ['Coco Jambo'], 'songurl': ['/wiki/Coco_Jambo'], 'titletext': '\"Coco Jambo\"', 'url': ['/wiki/Mr._President_(band)']}, {'band_singer': ['Keith Sweat'], 'ranking': '93', 'song': ['Twisted (Keith Sweat song)'], 'songurl': ['/wiki/Twisted_(Keith_Sweat_song)'], 'titletext': '\"Twisted (Keith Sweat song)\"', 'url': ['/wiki/Keith_Sweat']}, {'band_singer': ['Aqua'], 'ranking': '94', 'song': ['Barbie Girl'], 'songurl': ['/wiki/Barbie_Girl'], 'titletext': '\"Barbie Girl\"', 'url': ['/wiki/Aqua_(band)']}, {'band_singer': ['The Cranberries'], 'ranking': '95', 'song': [\"When You're Gone (The Cranberries song)\", 'Free to Decide'], 'songurl': ['/wiki/When_You%27re_Gone_(The_Cranberries_song)', '/wiki/Free_to_Decide'], 'titletext': '\"When You\\'re Gone (The Cranberries song)\" / \"Free to Decide\"', 'url': ['/wiki/The_Cranberries']}, {'band_singer': ['DJ Kool'], 'ranking': '96', 'song': ['Let Me Clear My Throat'], 'songurl': ['/wiki/Let_Me_Clear_My_Throat'], 'titletext': '\"Let Me Clear My Throat\"', 'url': ['/wiki/DJ_Kool']}, {'band_singer': ['The Blackout All-Stars'], 'ranking': '97', 'song': ['I Like It Like That (Pete Rodriguez song)'], 'songurl': ['/wiki/I_Like_It_Like_That_(Pete_Rodriguez_song)#The_Blackout_All-Stars_version'], 'titletext': '\"I Like It Like That (Pete Rodriguez song)\"', 'url': ['/wiki/The_Blackout_All-Stars']}, {'band_singer': ['Toni Braxton'], 'ranking': '98', 'song': [\"You're Makin' Me High\", 'Let It Flow (song)'], 'songurl': ['/wiki/You%27re_Makin%27_Me_High', '/wiki/Let_It_Flow_(song)'], 'titletext': '\"You\\'re Makin\\' Me High\" / \"Let It Flow (song)\"', 'url': ['/wiki/Toni_Braxton']}, {'band_singer': ['Madonna'], 'ranking': '99', 'song': ['You Must Love Me'], 'songurl': ['/wiki/You_Must_Love_Me'], 'titletext': '\"You Must Love Me\"', 'url': ['/wiki/Madonna_(entertainer)']}, {'band_singer': ['Ray J'], 'ranking': '100', 'song': ['Let It Go (Ray J song)'], 'songurl': ['/wiki/Let_It_Go_(Ray_J_song)'], 'titletext': '\"Let It Go (Ray J song)\"', 'url': ['/wiki/Ray_J']}]\n"
          ],
          "name": "stdout"
        }
      ]
    },
    {
      "cell_type": "markdown",
      "metadata": {
        "id": "iG2drDHYpy_t",
        "colab_type": "text"
      },
      "source": [
        "#### Helpful notes\n",
        "\n",
        "Notice that some singles might have multiple songs:\n",
        "\n",
        "```\n",
        "{'band_singer': ['Jewel'],\n",
        "  'ranking': 2,\n",
        "  'song': ['Foolish Games', 'You Were Meant for Me'],\n",
        "  'songurl': ['/wiki/Foolish_Games',\n",
        "   '/wiki/You_Were_Meant_for_Me_(Jewel_song)'],\n",
        "  'titletext': '\" Foolish Games \" / \" You Were Meant for Me \"',\n",
        "  'url': ['/wiki/Jewel_(singer)']}\n",
        "```"
      ]
    },
    {
      "cell_type": "markdown",
      "metadata": {
        "id": "MeNb_Pdcpy_t",
        "colab_type": "text"
      },
      "source": [
        "And some singles don't have a song URL:\n",
        "\n",
        "```\n",
        "{'band_singer': [u'Nu Flavor'],\n",
        "  'ranking': 91,\n",
        "  'song': [u'Heaven'],\n",
        "  'songurl': [None],\n",
        "  'titletext': u'\"Heaven\"',\n",
        "  'url': [u'/wiki/Nu_Flavor']}\n",
        "```"
      ]
    },
    {
      "cell_type": "markdown",
      "metadata": {
        "id": "xp9-hPkgpy_u",
        "colab_type": "text"
      },
      "source": [
        "Thus there are some issues this function must handle:\n",
        "\n",
        "1. There can be more than one  `band_singer` as can be seen above (sometimes with a comma, sometimes with \"featuring\" in between). The best way to parse these is to look for the urls.\n",
        "2. There can be two songs in a single, because of the way the industry works: there are two-sided singles. See https://en.wikipedia.org/wiki/Billboard_Year-End_Hot_100_singles_of_1997 for an example. You can find other examples in 1998 and 1999.\n",
        "3. The `titletext` is the contents of the table cell, and retains the quotes that Wikipedia puts on the single.\n",
        "4. If no song anchor is found (see the 24th song in the above url), assume there is one song in the single, set `songurl` to [`None`] and the song name to the contents of the table cell with the quotes stripped (ie `song` is a one-element list with this the `titletext` stripped of its quotes)."
      ]
    },
    {
      "cell_type": "markdown",
      "metadata": {
        "id": "0lpFrKlJpy_v",
        "colab_type": "text"
      },
      "source": [
        "As a check, we can do this for 1997. We'll print the first 5 outputs: `parse_year(1997, yearstext)[:5]`"
      ]
    },
    {
      "cell_type": "markdown",
      "metadata": {
        "id": "yw9rPw6mpy_w",
        "colab_type": "text"
      },
      "source": [
        "This should give the following. Notice that the year 1997 exercises the edge cases we talked about earlier."
      ]
    },
    {
      "cell_type": "markdown",
      "metadata": {
        "id": "KrBvS-Q2py_y",
        "colab_type": "text"
      },
      "source": [
        "```\n",
        "[{'band_singer': ['Elton John'],\n",
        "  'ranking': 1,\n",
        "  'song': ['Something About the Way You Look Tonight',\n",
        "   'Candle in the Wind 1997'],\n",
        "  'songurl': ['/wiki/Something_About_the_Way_You_Look_Tonight',\n",
        "   '/wiki/Candle_in_the_Wind_1997'],\n",
        "  'titletext': '\" Something About the Way You Look Tonight \" / \" Candle in the Wind 1997 \"',\n",
        "  'url': ['/wiki/Elton_John']},\n",
        " {'band_singer': ['Jewel'],\n",
        "  'ranking': 2,\n",
        "  'song': ['Foolish Games', 'You Were Meant for Me'],\n",
        "  'songurl': ['/wiki/Foolish_Games',\n",
        "   '/wiki/You_Were_Meant_for_Me_(Jewel_song)'],\n",
        "  'titletext': '\" Foolish Games \" / \" You Were Meant for Me \"',\n",
        "  'url': ['/wiki/Jewel_(singer)']},\n",
        " {'band_singer': ['Puff Daddy', 'Faith Evans', '112'],\n",
        "  'ranking': 3,\n",
        "  'song': [\"I'll Be Missing You\"],\n",
        "  'songurl': ['/wiki/I%27ll_Be_Missing_You'],\n",
        "  'titletext': '\" I\\'ll Be Missing You \"',\n",
        "  'url': ['/wiki/Sean_Combs', '/wiki/Faith_Evans', '/wiki/112_(band)']},\n",
        " {'band_singer': ['Toni Braxton'],\n",
        "  'ranking': 4,\n",
        "  'song': ['Un-Break My Heart'],\n",
        "  'songurl': ['/wiki/Un-Break_My_Heart'],\n",
        "  'titletext': '\" Un-Break My Heart \"',\n",
        "  'url': ['/wiki/Toni_Braxton']},\n",
        " {'band_singer': ['Puff Daddy', 'Mase'],\n",
        "  'ranking': 5,\n",
        "  'song': [\"Can't Nobody Hold Me Down\"],\n",
        "  'songurl': ['/wiki/Can%27t_Nobody_Hold_Me_Down'],\n",
        "  'titletext': '\" Can\\'t Nobody Hold Me Down \"',\n",
        "  'url': ['/wiki/Sean_Combs', '/wiki/Mase']}]\n",
        "```"
      ]
    },
    {
      "cell_type": "markdown",
      "metadata": {
        "id": "xDJGLEqupy_y",
        "colab_type": "text"
      },
      "source": [
        "#### Save a json file of information from the scraped files"
      ]
    },
    {
      "cell_type": "markdown",
      "metadata": {
        "id": "ATzELYOWpy_z",
        "colab_type": "text"
      },
      "source": [
        "We do not want to lose all this work, so let's save the last data structure we created to disk. That way if you need to re-run from here, you don't need to redo all these requests and parsing. \n",
        "\n",
        "DO NOT RERUN THE HTTP REQUESTS TO WIKIPEDIA WHEN SUBMITTING.\n",
        "\n",
        "*We **DO NOT** need to see these JSON files in your submission!*"
      ]
    },
    {
      "cell_type": "code",
      "metadata": {
        "id": "zpNh6JCGpy_0",
        "colab_type": "code",
        "colab": {}
      },
      "source": [
        "import json"
      ],
      "execution_count": 0,
      "outputs": []
    },
    {
      "cell_type": "markdown",
      "metadata": {
        "id": "FNmnp8Qnpy_4",
        "colab_type": "text"
      },
      "source": [
        "Now let's reload our JSON file into the yearinfo variable, just to be sure everything is working."
      ]
    },
    {
      "cell_type": "code",
      "metadata": {
        "scrolled": true,
        "id": "VtSbMVoUpy_5",
        "colab_type": "code",
        "colab": {}
      },
      "source": [
        "# RERUN WHEN SUBMITTING\n",
        "# Another way to deal with files. Has the advantage of closing the file for you.\n",
        "with open(\"yearinfo.json\", \"r\") as fd:\n",
        "    yearinfo = json.load(fd)"
      ],
      "execution_count": 0,
      "outputs": []
    },
    {
      "cell_type": "markdown",
      "metadata": {
        "id": "BFD2GbIApy_8",
        "colab_type": "text"
      },
      "source": [
        "#### 1.4 Construct a year-song-singer dataframe from the yearly information"
      ]
    },
    {
      "cell_type": "markdown",
      "metadata": {
        "id": "YhusMPVjpy_8",
        "colab_type": "text"
      },
      "source": [
        "Let's construct a dataframe `flatframe` from the `yearinfo`. The frame should be similar to the frame below.  Each row of the frame represents a song, and carries with it the chief properties of year, song, singer, and ranking.\n",
        "\n",
        "![](https://raw.githubusercontent.com/cs109/a-2017/master/hwassets/images/HW1SC1.png)"
      ]
    },
    {
      "cell_type": "code",
      "metadata": {
        "id": "-rZ6xFmanQuh",
        "colab_type": "code",
        "colab": {}
      },
      "source": [
        "rows = []\n",
        "for year in yearinfo.keys():\n",
        "    for song in yearinfo[year]:\n",
        "        song['year'] = year\n",
        "        rows.append(song)  "
      ],
      "execution_count": 0,
      "outputs": []
    },
    {
      "cell_type": "code",
      "metadata": {
        "id": "jz7JyKmznXsZ",
        "colab_type": "code",
        "colab": {}
      },
      "source": [
        "band_singer = []\n",
        "songurl = ''\n",
        "title_text = ''\n",
        "singer_url = []\n",
        "starting_length = len(rows)\n",
        "for dics in rows: \n",
        "    if starting_length == 0:\n",
        "        break\n",
        "    dict_add = {}   \n",
        "    # checks if our dictionary contains lists longer than one element\n",
        "    if len(dics['band_singer']) > 1:\n",
        "        i = 0\n",
        "        j = len(dics['band_singer'])\n",
        "        \n",
        "        for value in dics['band_singer']:\n",
        "            # new dictionary entry to append to our list\n",
        "            dict_add = {'band_singer' : dics['band_singer'][i],\n",
        "            'ranking' : dics['ranking'],\n",
        "            'song' : dics['song'], 'songurl': dics['songurl'], 'titletext' : dics['titletext'],\n",
        "            'url' : dics['url'][i], 'year' : dics['year']}\n",
        "            rows.append(dict_add)\n",
        "            i = 1 + i\n",
        "            j = j - 1\n",
        "    starting_length = starting_length - 1\n",
        "\n",
        "rows2 = []\n",
        "band_singer = []\n",
        "\n",
        "# loops through our list again, removing duplicate entries\n",
        "for dics in rows:\n",
        "    if len(dics['band_singer']) == 1 or len(dics['band_singer']) > 5:\n",
        "        rows2.append(dics)\n",
        "\n",
        "# turns all remaining one element lists into strings\n",
        "for row in rows2:\n",
        "    for key in row:\n",
        "        row[key] = str(row[key])\n",
        "        row[key] = row[key].strip(\"[]\")\n",
        "        row[key] = row[key].strip(\"''\")\n",
        "        "
      ],
      "execution_count": 0,
      "outputs": []
    },
    {
      "cell_type": "code",
      "metadata": {
        "id": "NAycU-tGna7e",
        "colab_type": "code",
        "colab": {}
      },
      "source": [
        "rows2\n",
        "flatframe = pd.DataFrame(rows2)\n",
        "\n",
        "\n",
        "# check datatypes of dataframe columns\n",
        "flatframe['year'].dtype\n",
        "flatframe"
      ],
      "execution_count": 0,
      "outputs": []
    },
    {
      "cell_type": "markdown",
      "metadata": {
        "id": "W3CexPpcpy_-",
        "colab_type": "text"
      },
      "source": [
        "To construct the dataframe, we'll need to iterate over the years and the singles per year. Notice how, above, the dataframe is ordered by ranking and then year. While the exact order is up to you, note that you will have to come up with a scheme to order the information.\n",
        "\n",
        "Check that the dataframe has sensible data types. You will also likely find that the year field has become an \"object\" (Pandas treats strings as generic objects): this is due to the conversion to and back from JSON. Such conversions need special care. Fix any data type issues with `flatframe`. (See Pandas [astype](http://pandas.pydata.org/pandas-docs/stable/generated/pandas.DataFrame.astype.html) function.) \n",
        "We will use this `flatframe` in the next question. \n",
        "\n",
        "(As an aside, we used the name `flatframe` to indicate that this dataframe is flattened from a hierarchical dictionary structure with the keys being the years.)"
      ]
    },
    {
      "cell_type": "markdown",
      "metadata": {
        "id": "DVP-EqG7py__",
        "colab_type": "text"
      },
      "source": [
        "### Who are the highest quality singers?"
      ]
    },
    {
      "cell_type": "markdown",
      "metadata": {
        "id": "idIROBv4py__",
        "colab_type": "text"
      },
      "source": [
        "Here we show the highest quality singers and plot them on a bar chart.\n",
        "\n",
        "#### 1.5 Find highest quality singers according to how prolific they are\n",
        "\n",
        "What do we mean by highest quality? This is of course open to interpretation, but let's define \"highest quality\" here as the number of times a singer appears in the top 100 over this time period. If a singer appears twice in a year (for different songs), this is counted as two appearances, not one. \n",
        "\n",
        "Make a bar-plot of the most prolific singers. Singers on this chart should have appeared at-least more than 15 times. (HINT: look at the docs for the pandas method `value_counts`.)\n"
      ]
    },
    {
      "cell_type": "markdown",
      "metadata": {
        "id": "ldrgVONGpzAA",
        "colab_type": "text"
      },
      "source": [
        "#### 1.6 What if we used a different metric?"
      ]
    },
    {
      "cell_type": "code",
      "metadata": {
        "id": "jCTk2sQOn7wj",
        "colab_type": "code",
        "colab": {}
      },
      "source": [
        "artist_count = flatframe[\"band_singer\"].value_counts()\n",
        "\n",
        "artist_count"
      ],
      "execution_count": 0,
      "outputs": []
    },
    {
      "cell_type": "markdown",
      "metadata": {
        "id": "wPfrJEe8pzAB",
        "colab_type": "text"
      },
      "source": [
        "What we would like to capture is this: a singer should to be scored higher if the singer appears higher in the rankings. So we'd say that a singer who appeared once at a higher and once at a lower ranking is a \"higher quality\" singer than one who appeared twice at a lower ranking. \n",
        "\n",
        "To do this, group all of a singers songs together and assign each song a score `101 - ranking`. Order the singers by their total score and make a bar chart for the top 20.\n"
      ]
    },
    {
      "cell_type": "markdown",
      "metadata": {
        "id": "kBMpIkzbpzAD",
        "colab_type": "text"
      },
      "source": [
        "## Q2. Scraping and Constructing: Information about Artists, Bands and Genres from Wikipedia"
      ]
    },
    {
      "cell_type": "markdown",
      "metadata": {
        "id": "-3sxF8ngpzAD",
        "colab_type": "text"
      },
      "source": [
        "Our next job is to use those band/singer urls we collected under `flatframe.url` and get information about singers and/or bands."
      ]
    },
    {
      "cell_type": "markdown",
      "metadata": {
        "id": "vL1s8eJypzAE",
        "colab_type": "text"
      },
      "source": [
        "### Scrape information about artists from wikipedia"
      ]
    },
    {
      "cell_type": "markdown",
      "metadata": {
        "id": "2ImHFm1MpzAE",
        "colab_type": "text"
      },
      "source": [
        "We wish to fetch information about the singers or groups for all the winning songs in a list of years.\n",
        "\n",
        "Here we show a function that fetches information about a singer or group from their url on wikipedia. We create a cache object `urlcache` that will avoid redundant HTTP requests (e.g. an artist might have multiple singles on a single year, or be on the list over a span of years). Once we have fetched information about an artist, we don't need to do it again. The caching also helps if the network goes down, or the target website is having some problems. You simply need to run the `get_page` function below again, and the `urlcache` dictionary will continue to be filled.\n",
        "\n",
        "If the request gets an HTTP return code different from 200, (such as a 404 not found or 500 Internal Server Error) the cells for that URL will have a value of 1; and if the request completely fails (e.g. no network connection) the cell will have a value of 2. This will allow you to analyse the failed requests.\n",
        "\n",
        "Notice that we have wrapped the call in whats called _an exception block_. We try to make the request. If it fails entirely, or returns a HTTP code thats not 200, we set the status to 2 and 1 respectively."
      ]
    },
    {
      "cell_type": "code",
      "metadata": {
        "scrolled": true,
        "id": "pGPYymaQpzAF",
        "colab_type": "code",
        "colab": {}
      },
      "source": [
        "urlcache={}\n"
      ],
      "execution_count": 0,
      "outputs": []
    },
    {
      "cell_type": "code",
      "metadata": {
        "scrolled": true,
        "id": "jtJ3DTbJpzAI",
        "colab_type": "code",
        "colab": {}
      },
      "source": [
        "def get_page(url):\n",
        "    # Check if URL has already been visited.\n",
        "    if (url not in urlcache) or (urlcache[url]==1) or (urlcache[url]==2):\n",
        "        time.sleep(1)\n",
        "        # try/except blocks are used whenever the code could generate an exception (e.g. division by zero).\n",
        "        # In this case we don't know if the page really exists, or even if it does, if we'll be able to reach it.\n",
        "        try:\n",
        "            r = requests.get(\"http://en.wikipedia.org%s\" % url)\n",
        "\n",
        "            if r.status_code == 200:\n",
        "                urlcache[url] = r.text\n",
        "            else:\n",
        "                urlcache[url] = 1\n",
        "        except:\n",
        "            urlcache[url] = 2\n",
        "    return urlcache[url]\n"
      ],
      "execution_count": 0,
      "outputs": []
    },
    {
      "cell_type": "markdown",
      "metadata": {
        "id": "_9hiXNs2pzAL",
        "colab_type": "text"
      },
      "source": [
        "We sort the `flatframe` by year, ascending, first. Think why."
      ]
    },
    {
      "cell_type": "code",
      "metadata": {
        "scrolled": true,
        "id": "kBmixNVRpzAM",
        "colab_type": "code",
        "colab": {
          "base_uri": "https://localhost:8080/",
          "height": 33
        },
        "outputId": "47445d42-6006-4449-ff77-367561245995"
      },
      "source": [
        "flatframe=flatframe.sort_values('year')\n",
        "flatframe.head()\n",
        "urlcache"
      ],
      "execution_count": 78,
      "outputs": [
        {
          "output_type": "execute_result",
          "data": {
            "text/plain": [
              "{}"
            ]
          },
          "metadata": {
            "tags": []
          },
          "execution_count": 78
        }
      ]
    },
    {
      "cell_type": "markdown",
      "metadata": {
        "id": "RmNOaaQxpzAP",
        "colab_type": "text"
      },
      "source": [
        "#### Pulling and saving the data"
      ]
    },
    {
      "cell_type": "markdown",
      "metadata": {
        "id": "xiUj77IxpzAR",
        "colab_type": "text"
      },
      "source": [
        "You may have to run this function again and again, in case there were network problems. Note that, because there is a \"global\" cache, it will take less time each time you run it. Also note that this function is designed to be run again and again: it attempts to make sure that there are no unresolved pages remaining. Let us make sure of this: *the sum below should be 0, and the boolean True.*"
      ]
    },
    {
      "cell_type": "code",
      "metadata": {
        "scrolled": true,
        "id": "7yjGUoRspzAP",
        "colab_type": "code",
        "colab": {}
      },
      "source": [
        "# DO NOT RERUN THIS CELL WHEN SUBMITTING\n",
        "# Here we are populating the url cache\n",
        "# subsequent calls to this cell should be very fast, since Python won't\n",
        "# need to fetch the page from the web server.\n",
        "# NOTE this function will take quite some time to run (about 30 mins for me), since we sleep 1 second before\n",
        "# making a request. If you run it again it will be almost instantaneous, save requests that might have failed\n",
        "# (you will need to run it again if requests fail..see cell below for how to test this)\n",
        "flatframe[\"url\"].apply(get_page)"
      ],
      "execution_count": 0,
      "outputs": []
    },
    {
      "cell_type": "code",
      "metadata": {
        "scrolled": true,
        "id": "M5eeuAGBpzAS",
        "colab_type": "code",
        "colab": {}
      },
      "source": [
        "# DO NOT RERUN THIS CELL WHEN SUBMITTING\n",
        "print(\"Number of bad requests:\",np.sum([(urlcache[k]==1) or (urlcache[k]==2) for k in urlcache])) # no one or 0's)\n",
        "print(\"Did we get all urls?\", len(flatframe.url.unique())==len(urlcache)) # we got all of the urls"
      ],
      "execution_count": 0,
      "outputs": []
    },
    {
      "cell_type": "markdown",
      "metadata": {
        "id": "-YUZ2WV2pzAU",
        "colab_type": "text"
      },
      "source": [
        "Let's save the `urlcache` to disk, just in case we need it again."
      ]
    },
    {
      "cell_type": "code",
      "metadata": {
        "id": "VhuVasTQpzAU",
        "colab_type": "code",
        "colab": {}
      },
      "source": [
        "# DO NOT RERUN THIS CELL WHEN SUBMITTING\n",
        "with open(\"data/artistinfo.json\",\"w\") as fd:\n",
        "    json.dump(urlcache, fd)\n",
        "del urlcache"
      ],
      "execution_count": 0,
      "outputs": []
    },
    {
      "cell_type": "code",
      "metadata": {
        "scrolled": false,
        "id": "Q3jto_zWpzAW",
        "colab_type": "code",
        "colab": {}
      },
      "source": [
        "# RERUN WHEN SUBMITTING\n",
        "with open(\"artistinfo.json\") as json_file:\n",
        "    urlcache = json.load(json_file)\n",
        "    \n",
        "urlcache"
      ],
      "execution_count": 0,
      "outputs": []
    },
    {
      "cell_type": "markdown",
      "metadata": {
        "id": "GP0InCZOpzAY",
        "colab_type": "text"
      },
      "source": [
        "#### 2.1 Extract information about singers and bands"
      ]
    },
    {
      "cell_type": "markdown",
      "metadata": {
        "id": "tT4_taVlpzAY",
        "colab_type": "text"
      },
      "source": [
        "From each page we collected about a singer or a band, extract the following information:\n",
        "\n",
        "1. If the page has the text \"Born\" in the sidebar on the right, extract the element with the class `.bday`. If the page doesn't contain \"Born\", store `False`.  Store either of these into the variable `born`. We want to analyze the artist's age.\n",
        "\n",
        "2. If the text \"Years active\" is found, but no \"born\", assume a band. Store into the variable `ya` the value of the next table cell corresponding to this, or `False` if the text is not found.\n",
        "\n",
        "Put this all into a function `singer_band_info` which takes the singer/band url as argument and returns a dictionary `dict(url=url, born=born, ya=ya)`.\n",
        "\n",
        "The information can be found on the sidebar on each such wikipedia page, as the example here shows:\n",
        "\n",
        "![sandg](https://raw.githubusercontent.com/cs109/a-2017/master/hwassets/images/sandg.png).\n",
        "\n"
      ]
    },
    {
      "cell_type": "markdown",
      "metadata": {
        "id": "o-TYQDS4pzAZ",
        "colab_type": "text"
      },
      "source": [
        "Write the function `singer_band_info` according to the following specification:"
      ]
    },
    {
      "cell_type": "code",
      "metadata": {
        "id": "lYmIDL2gpzAZ",
        "colab_type": "code",
        "colab": {}
      },
      "source": [
        "\"\"\"\n",
        "Function\n",
        "--------\n",
        "singer_band_info\n",
        "\n",
        "Inputs\n",
        "------\n",
        "url: the url\n",
        "page_text: the text associated with the url\n",
        "   \n",
        "Returns\n",
        "-------\n",
        "A dictionary with the following data:\n",
        "    url: copy the input argument url into this value\n",
        "    born: the artist's birthday\n",
        "    ya: years active variable\n",
        "\n",
        "Notes\n",
        "-----\n",
        "See description above. Also note that some of the genres urls might require a \n",
        "bit of care and special handling.\n",
        "\"\"\"\n",
        "\n",
        "\n",
        "def singer_band_info(url, page_text):\n",
        "    bday_dict = {}\n",
        "    bday = ''\n",
        "    ya = ''\n",
        "    # soupify our webpage\n",
        "    soup = BeautifulSoup(page_text[url], \"lxml\")\n",
        "    tables = soup.find('table', attrs={'class':'infobox vcard plainlist'})\n",
        "    if (tables == None):\n",
        "        tables = soup.find('table', attrs={'class':'infobox biography vcard'})\n",
        "    bday = tables.find('span', {'class': 'bday'})\n",
        "    if bday: \n",
        "        bday = bday.get_text()[:4]\n",
        "        bday_dict = {'url' : url, 'born' : bday, 'ya' : ya}\n",
        "    else:\n",
        "        ya = False\n",
        "        for tr in tables.find_all('tr'):\n",
        "            if hasattr(tr.th, 'span'):\n",
        "                if hasattr(tr.th.span, 'string'):\n",
        "                    if tr.th.span.string == 'Years active':                \n",
        "                        if hasattr(tr.th, 'span'):\n",
        "                            #ya = tr.td.string\n",
        "                            ya = tr.td.text   #DK add\n",
        "                            bday = 'False'\n",
        "                            bday_dict = {'url' : url, 'born' : 'False', 'ya' : ya}\n",
        "    return(bday_dict)\n"
      ],
      "execution_count": 0,
      "outputs": []
    },
    {
      "cell_type": "code",
      "metadata": {
        "id": "Mvth6uzloqJ8",
        "colab_type": "code",
        "colab": {
          "base_uri": "https://localhost:8080/",
          "height": 33
        },
        "outputId": "5407f6b2-4b61-43be-9fd1-996f6d10157f"
      },
      "source": [
        "url = '/wiki/Iggy_Azalea'\n",
        "singer_band_info(url, urlcache)"
      ],
      "execution_count": 83,
      "outputs": [
        {
          "output_type": "execute_result",
          "data": {
            "text/plain": [
              "{'born': '1990', 'url': '/wiki/Iggy_Azalea', 'ya': ''}"
            ]
          },
          "metadata": {
            "tags": []
          },
          "execution_count": 83
        }
      ]
    },
    {
      "cell_type": "markdown",
      "metadata": {
        "id": "8nfE_5brpzAb",
        "colab_type": "text"
      },
      "source": [
        "#### 2.2  Merging this information in"
      ]
    },
    {
      "cell_type": "markdown",
      "metadata": {
        "id": "ubEn5WmEpzAc",
        "colab_type": "text"
      },
      "source": [
        "Iterate over the items in the singer-group dictionary cache `urlcache`, run the above function, and create a dataframe from there with columns `url`, `born`, and `ya`. Merge this dataframe on the `url` key with `flatframe`, creating a rather wide dataframe that we shall call `largedf`. It should look something like this:\n",
        "\n",
        "![](https://raw.githubusercontent.com/cs109/a-2017/master/hwassets/images/HW1SC3.png)\n",
        "\n",
        "Notice how the `born` and `ya` and `url` are repeated every time a different song from a given band is represented in a row."
      ]
    },
    {
      "cell_type": "code",
      "metadata": {
        "id": "irwdDf37puxN",
        "colab_type": "code",
        "colab": {}
      },
      "source": [
        "list_of_addit_dicts = []\n",
        "bday_dict = {}\n",
        "for url in urlcache.keys():   \n",
        "    try:\n",
        "        bday_dict = singer_band_info(url, urlcache)\n",
        "        list_of_addit_dicts.append(bday_dict)\n",
        "    except:\n",
        "        break"
      ],
      "execution_count": 0,
      "outputs": []
    },
    {
      "cell_type": "code",
      "metadata": {
        "id": "QWcSld8Splm7",
        "colab_type": "code",
        "colab": {
          "base_uri": "https://localhost:8080/",
          "height": 1000
        },
        "outputId": "afb545b3-4d3d-4ba6-9413-0463d2466f01"
      },
      "source": [
        "additional_df = pd.DataFrame(list_of_addit_dicts)\n",
        "\n",
        "largedf = pd.merge(flatframe, additional_df, left_on='url', right_on='url', how=\"outer\")\n",
        "largedf"
      ],
      "execution_count": 87,
      "outputs": [
        {
          "output_type": "execute_result",
          "data": {
            "text/html": [
              "<div>\n",
              "<style scoped>\n",
              "    .dataframe tbody tr th:only-of-type {\n",
              "        vertical-align: middle;\n",
              "    }\n",
              "\n",
              "    .dataframe tbody tr th {\n",
              "        vertical-align: top;\n",
              "    }\n",
              "\n",
              "    .dataframe thead th {\n",
              "        text-align: right;\n",
              "    }\n",
              "</style>\n",
              "<table border=\"1\" class=\"dataframe\">\n",
              "  <thead>\n",
              "    <tr style=\"text-align: right;\">\n",
              "      <th></th>\n",
              "      <th>band_singer</th>\n",
              "      <th>ranking</th>\n",
              "      <th>song</th>\n",
              "      <th>songurl</th>\n",
              "      <th>titletext</th>\n",
              "      <th>url</th>\n",
              "      <th>year</th>\n",
              "      <th>born</th>\n",
              "      <th>ya</th>\n",
              "    </tr>\n",
              "  </thead>\n",
              "  <tbody>\n",
              "    <tr>\n",
              "      <th>0</th>\n",
              "      <td>Boyz II Men</td>\n",
              "      <td>1\\n</td>\n",
              "      <td>End of the Road</td>\n",
              "      <td>/wiki/End_of_the_Road</td>\n",
              "      <td>\"End of the Road\"</td>\n",
              "      <td>/wiki/Boyz_II_Men</td>\n",
              "      <td>1992</td>\n",
              "      <td>False</td>\n",
              "      <td>1985–present</td>\n",
              "    </tr>\n",
              "    <tr>\n",
              "      <th>1</th>\n",
              "      <td>Boyz II Men</td>\n",
              "      <td>37\\n</td>\n",
              "      <td>\"It's So Hard to Say Goodbye to Yesterday\"</td>\n",
              "      <td>/wiki/It%27s_So_Hard_to_Say_Goodbye_to_Yesterday</td>\n",
              "      <td>\"It's So Hard to Say Goodbye to Yesterday\"</td>\n",
              "      <td>/wiki/Boyz_II_Men</td>\n",
              "      <td>1992</td>\n",
              "      <td>False</td>\n",
              "      <td>1985–present</td>\n",
              "    </tr>\n",
              "    <tr>\n",
              "      <th>2</th>\n",
              "      <td>Boyz II Men</td>\n",
              "      <td>84\\n</td>\n",
              "      <td>Uhh Ahh</td>\n",
              "      <td>/wiki/Uhh_Ahh</td>\n",
              "      <td>\"Uhh Ahh\"</td>\n",
              "      <td>/wiki/Boyz_II_Men</td>\n",
              "      <td>1992</td>\n",
              "      <td>False</td>\n",
              "      <td>1985–present</td>\n",
              "    </tr>\n",
              "    <tr>\n",
              "      <th>3</th>\n",
              "      <td>Boyz II Men</td>\n",
              "      <td>12\\n</td>\n",
              "      <td>In the Still of the Night (1956 song)</td>\n",
              "      <td>/wiki/In_the_Still_of_the_Night_(1956_song)#Bo...</td>\n",
              "      <td>\"In the Still of the Night (1956 song)\"</td>\n",
              "      <td>/wiki/Boyz_II_Men</td>\n",
              "      <td>1993</td>\n",
              "      <td>False</td>\n",
              "      <td>1985–present</td>\n",
              "    </tr>\n",
              "    <tr>\n",
              "      <th>4</th>\n",
              "      <td>Boyz II Men</td>\n",
              "      <td>3\\n</td>\n",
              "      <td>\"I'll Make Love to You\"</td>\n",
              "      <td>/wiki/I%27ll_Make_Love_to_You</td>\n",
              "      <td>\"I'll Make Love to You\"</td>\n",
              "      <td>/wiki/Boyz_II_Men</td>\n",
              "      <td>1994</td>\n",
              "      <td>False</td>\n",
              "      <td>1985–present</td>\n",
              "    </tr>\n",
              "    <tr>\n",
              "      <th>5</th>\n",
              "      <td>Boyz II Men</td>\n",
              "      <td>5\\n</td>\n",
              "      <td>On Bended Knee</td>\n",
              "      <td>/wiki/On_Bended_Knee</td>\n",
              "      <td>\"On Bended Knee\"</td>\n",
              "      <td>/wiki/Boyz_II_Men</td>\n",
              "      <td>1995</td>\n",
              "      <td>False</td>\n",
              "      <td>1985–present</td>\n",
              "    </tr>\n",
              "    <tr>\n",
              "      <th>6</th>\n",
              "      <td>Boyz II Men</td>\n",
              "      <td>50\\n</td>\n",
              "      <td>\"I'll Make Love to You\"</td>\n",
              "      <td>/wiki/I%27ll_Make_Love_to_You</td>\n",
              "      <td>\"I'll Make Love to You\"</td>\n",
              "      <td>/wiki/Boyz_II_Men</td>\n",
              "      <td>1995</td>\n",
              "      <td>False</td>\n",
              "      <td>1985–present</td>\n",
              "    </tr>\n",
              "    <tr>\n",
              "      <th>7</th>\n",
              "      <td>Boyz II Men</td>\n",
              "      <td>12\\n</td>\n",
              "      <td>Water Runs Dry</td>\n",
              "      <td>/wiki/Water_Runs_Dry</td>\n",
              "      <td>\"Water Runs Dry\"</td>\n",
              "      <td>/wiki/Boyz_II_Men</td>\n",
              "      <td>1995</td>\n",
              "      <td>False</td>\n",
              "      <td>1985–present</td>\n",
              "    </tr>\n",
              "    <tr>\n",
              "      <th>8</th>\n",
              "      <td>Boyz II Men</td>\n",
              "      <td>94\\n</td>\n",
              "      <td>Thank You (Boyz II Men song)</td>\n",
              "      <td>/wiki/Thank_You_(Boyz_II_Men_song)</td>\n",
              "      <td>\"Thank You (Boyz II Men song)\"</td>\n",
              "      <td>/wiki/Boyz_II_Men</td>\n",
              "      <td>1995</td>\n",
              "      <td>False</td>\n",
              "      <td>1985–present</td>\n",
              "    </tr>\n",
              "    <tr>\n",
              "      <th>9</th>\n",
              "      <td>Boyz II Men</td>\n",
              "      <td>2\\n</td>\n",
              "      <td>One Sweet Day</td>\n",
              "      <td>/wiki/One_Sweet_Day</td>\n",
              "      <td>\"One Sweet Day\"</td>\n",
              "      <td>/wiki/Boyz_II_Men</td>\n",
              "      <td>1996</td>\n",
              "      <td>False</td>\n",
              "      <td>1985–present</td>\n",
              "    </tr>\n",
              "    <tr>\n",
              "      <th>10</th>\n",
              "      <td>Boyz II Men</td>\n",
              "      <td>30\\n</td>\n",
              "      <td>4 Seasons of Loneliness</td>\n",
              "      <td>/wiki/4_Seasons_of_Loneliness</td>\n",
              "      <td>\"4 Seasons of Loneliness\"</td>\n",
              "      <td>/wiki/Boyz_II_Men</td>\n",
              "      <td>1997</td>\n",
              "      <td>False</td>\n",
              "      <td>1985–present</td>\n",
              "    </tr>\n",
              "    <tr>\n",
              "      <th>11</th>\n",
              "      <td>Boyz II Men</td>\n",
              "      <td>30\\n</td>\n",
              "      <td>A Song for Mama</td>\n",
              "      <td>/wiki/A_Song_for_Mama</td>\n",
              "      <td>\"A Song for Mama\"</td>\n",
              "      <td>/wiki/Boyz_II_Men</td>\n",
              "      <td>1998</td>\n",
              "      <td>False</td>\n",
              "      <td>1985–present</td>\n",
              "    </tr>\n",
              "    <tr>\n",
              "      <th>12</th>\n",
              "      <td>Boyz II Men</td>\n",
              "      <td>96\\n</td>\n",
              "      <td>4 Seasons of Loneliness</td>\n",
              "      <td>/wiki/4_Seasons_of_Loneliness</td>\n",
              "      <td>\"4 Seasons of Loneliness\"</td>\n",
              "      <td>/wiki/Boyz_II_Men</td>\n",
              "      <td>1998</td>\n",
              "      <td>False</td>\n",
              "      <td>1985–present</td>\n",
              "    </tr>\n",
              "    <tr>\n",
              "      <th>13</th>\n",
              "      <td>Sir Mix-a-Lot</td>\n",
              "      <td>2\\n</td>\n",
              "      <td>Baby Got Back</td>\n",
              "      <td>/wiki/Baby_Got_Back</td>\n",
              "      <td>\"Baby Got Back\"</td>\n",
              "      <td>/wiki/Sir_Mix-a-Lot</td>\n",
              "      <td>1992</td>\n",
              "      <td>NaN</td>\n",
              "      <td>NaN</td>\n",
              "    </tr>\n",
              "    <tr>\n",
              "      <th>14</th>\n",
              "      <td>Kris Kross</td>\n",
              "      <td>3\\n</td>\n",
              "      <td>Jump (Kris Kross song)</td>\n",
              "      <td>/wiki/Jump_(Kris_Kross_song)</td>\n",
              "      <td>\"Jump (Kris Kross song)\"</td>\n",
              "      <td>/wiki/Kris_Kross</td>\n",
              "      <td>1992</td>\n",
              "      <td>False</td>\n",
              "      <td>1991–1996, 2006–2013</td>\n",
              "    </tr>\n",
              "    <tr>\n",
              "      <th>15</th>\n",
              "      <td>Kris Kross</td>\n",
              "      <td>65\\n</td>\n",
              "      <td>Warm It Up</td>\n",
              "      <td>/wiki/Warm_It_Up</td>\n",
              "      <td>\"Warm It Up\"</td>\n",
              "      <td>/wiki/Kris_Kross</td>\n",
              "      <td>1992</td>\n",
              "      <td>False</td>\n",
              "      <td>1991–1996, 2006–2013</td>\n",
              "    </tr>\n",
              "    <tr>\n",
              "      <th>16</th>\n",
              "      <td>Kris Kross</td>\n",
              "      <td>85\\n</td>\n",
              "      <td>Alright (Kris Kross song)</td>\n",
              "      <td>/wiki/Alright_(Kris_Kross_song)</td>\n",
              "      <td>\"Alright (Kris Kross song)\"</td>\n",
              "      <td>/wiki/Kris_Kross</td>\n",
              "      <td>1993</td>\n",
              "      <td>False</td>\n",
              "      <td>1991–1996, 2006–2013</td>\n",
              "    </tr>\n",
              "    <tr>\n",
              "      <th>17</th>\n",
              "      <td>Kris Kross</td>\n",
              "      <td>64\\n</td>\n",
              "      <td>\"Tonite's tha Night\"</td>\n",
              "      <td>/wiki/Tonite%27s_tha_Night</td>\n",
              "      <td>\"Tonite's tha Night\"</td>\n",
              "      <td>/wiki/Kris_Kross</td>\n",
              "      <td>1996</td>\n",
              "      <td>False</td>\n",
              "      <td>1991–1996, 2006–2013</td>\n",
              "    </tr>\n",
              "    <tr>\n",
              "      <th>18</th>\n",
              "      <td>Vanessa Williams</td>\n",
              "      <td>4\\n</td>\n",
              "      <td>Save the Best for Last</td>\n",
              "      <td>/wiki/Save_the_Best_for_Last</td>\n",
              "      <td>\"Save the Best for Last\"</td>\n",
              "      <td>/wiki/Vanessa_L._Williams</td>\n",
              "      <td>1992</td>\n",
              "      <td>NaN</td>\n",
              "      <td>NaN</td>\n",
              "    </tr>\n",
              "    <tr>\n",
              "      <th>19</th>\n",
              "      <td>Vanessa Williams</td>\n",
              "      <td>21\\n</td>\n",
              "      <td>Love Is (Vanessa Williams song)</td>\n",
              "      <td>/wiki/Love_Is_(Vanessa_Williams_song)</td>\n",
              "      <td>\"Love Is (Vanessa Williams song)\"</td>\n",
              "      <td>/wiki/Vanessa_L._Williams</td>\n",
              "      <td>1993</td>\n",
              "      <td>NaN</td>\n",
              "      <td>NaN</td>\n",
              "    </tr>\n",
              "    <tr>\n",
              "      <th>20</th>\n",
              "      <td>Vanessa Williams</td>\n",
              "      <td>75\\n</td>\n",
              "      <td>The Sweetest Days (Vanessa Williams song)</td>\n",
              "      <td>/wiki/The_Sweetest_Days_(Vanessa_Williams_song)</td>\n",
              "      <td>\"The Sweetest Days (Vanessa Williams song)\"</td>\n",
              "      <td>/wiki/Vanessa_L._Williams</td>\n",
              "      <td>1995</td>\n",
              "      <td>NaN</td>\n",
              "      <td>NaN</td>\n",
              "    </tr>\n",
              "    <tr>\n",
              "      <th>21</th>\n",
              "      <td>Vanessa Williams</td>\n",
              "      <td>31\\n</td>\n",
              "      <td>Colors of the Wind</td>\n",
              "      <td>/wiki/Colors_of_the_Wind</td>\n",
              "      <td>\"Colors of the Wind\"</td>\n",
              "      <td>/wiki/Vanessa_L._Williams</td>\n",
              "      <td>1995</td>\n",
              "      <td>NaN</td>\n",
              "      <td>NaN</td>\n",
              "    </tr>\n",
              "    <tr>\n",
              "      <th>22</th>\n",
              "      <td>TLC</td>\n",
              "      <td>5\\n</td>\n",
              "      <td>Baby-Baby-Baby</td>\n",
              "      <td>/wiki/Baby-Baby-Baby</td>\n",
              "      <td>\"Baby-Baby-Baby\"</td>\n",
              "      <td>/wiki/TLC_(band)</td>\n",
              "      <td>1992</td>\n",
              "      <td>False</td>\n",
              "      <td>1990–present</td>\n",
              "    </tr>\n",
              "    <tr>\n",
              "      <th>23</th>\n",
              "      <td>TLC</td>\n",
              "      <td>36\\n</td>\n",
              "      <td>\"Ain't 2 Proud 2 Beg\"</td>\n",
              "      <td>/wiki/Ain%27t_2_Proud_2_Beg</td>\n",
              "      <td>\"Ain't 2 Proud 2 Beg\"</td>\n",
              "      <td>/wiki/TLC_(band)</td>\n",
              "      <td>1992</td>\n",
              "      <td>False</td>\n",
              "      <td>1990–present</td>\n",
              "    </tr>\n",
              "    <tr>\n",
              "      <th>24</th>\n",
              "      <td>TLC</td>\n",
              "      <td>88\\n</td>\n",
              "      <td>What About Your Friends</td>\n",
              "      <td>/wiki/What_About_Your_Friends</td>\n",
              "      <td>\"What About Your Friends\"</td>\n",
              "      <td>/wiki/TLC_(band)</td>\n",
              "      <td>1992</td>\n",
              "      <td>False</td>\n",
              "      <td>1990–present</td>\n",
              "    </tr>\n",
              "    <tr>\n",
              "      <th>25</th>\n",
              "      <td>TLC</td>\n",
              "      <td>62\\n</td>\n",
              "      <td>What About Your Friends</td>\n",
              "      <td>/wiki/What_About_Your_Friends</td>\n",
              "      <td>\"What About Your Friends\"</td>\n",
              "      <td>/wiki/TLC_(band)</td>\n",
              "      <td>1993</td>\n",
              "      <td>False</td>\n",
              "      <td>1990–present</td>\n",
              "    </tr>\n",
              "    <tr>\n",
              "      <th>26</th>\n",
              "      <td>TLC</td>\n",
              "      <td>3\\n</td>\n",
              "      <td>Creep (TLC song)</td>\n",
              "      <td>/wiki/Creep_(TLC_song)</td>\n",
              "      <td>\"Creep (TLC song)\"</td>\n",
              "      <td>/wiki/TLC_(band)</td>\n",
              "      <td>1995</td>\n",
              "      <td>False</td>\n",
              "      <td>1990–present</td>\n",
              "    </tr>\n",
              "    <tr>\n",
              "      <th>27</th>\n",
              "      <td>TLC</td>\n",
              "      <td>2\\n</td>\n",
              "      <td>Waterfalls (TLC song)</td>\n",
              "      <td>/wiki/Waterfalls_(TLC_song)</td>\n",
              "      <td>\"Waterfalls (TLC song)\"</td>\n",
              "      <td>/wiki/TLC_(band)</td>\n",
              "      <td>1995</td>\n",
              "      <td>False</td>\n",
              "      <td>1990–present</td>\n",
              "    </tr>\n",
              "    <tr>\n",
              "      <th>28</th>\n",
              "      <td>TLC</td>\n",
              "      <td>28\\n</td>\n",
              "      <td>Red Light Special</td>\n",
              "      <td>/wiki/Red_Light_Special</td>\n",
              "      <td>\"Red Light Special\"</td>\n",
              "      <td>/wiki/TLC_(band)</td>\n",
              "      <td>1995</td>\n",
              "      <td>False</td>\n",
              "      <td>1990–present</td>\n",
              "    </tr>\n",
              "    <tr>\n",
              "      <th>29</th>\n",
              "      <td>TLC</td>\n",
              "      <td>45\\n</td>\n",
              "      <td>\"Diggin' on You\"</td>\n",
              "      <td>/wiki/Diggin%27_on_You</td>\n",
              "      <td>\"Diggin' on You\"</td>\n",
              "      <td>/wiki/TLC_(band)</td>\n",
              "      <td>1996</td>\n",
              "      <td>False</td>\n",
              "      <td>1990–present</td>\n",
              "    </tr>\n",
              "    <tr>\n",
              "      <th>...</th>\n",
              "      <td>...</td>\n",
              "      <td>...</td>\n",
              "      <td>...</td>\n",
              "      <td>...</td>\n",
              "      <td>...</td>\n",
              "      <td>...</td>\n",
              "      <td>...</td>\n",
              "      <td>...</td>\n",
              "      <td>...</td>\n",
              "    </tr>\n",
              "    <tr>\n",
              "      <th>2720</th>\n",
              "      <td>Meghan Trainor</td>\n",
              "      <td>8\\n</td>\n",
              "      <td>All About That Bass</td>\n",
              "      <td>/wiki/All_About_That_Bass</td>\n",
              "      <td>\"All About That Bass\"</td>\n",
              "      <td>/wiki/Meghan_Trainor</td>\n",
              "      <td>2014</td>\n",
              "      <td>NaN</td>\n",
              "      <td>NaN</td>\n",
              "    </tr>\n",
              "    <tr>\n",
              "      <th>2721</th>\n",
              "      <td>Sam Smith</td>\n",
              "      <td>10\\n</td>\n",
              "      <td>Stay with Me (Sam Smith song)</td>\n",
              "      <td>/wiki/Stay_with_Me_(Sam_Smith_song)</td>\n",
              "      <td>\"Stay with Me (Sam Smith song)\"</td>\n",
              "      <td>/wiki/Sam_Smith_(singer)</td>\n",
              "      <td>2014</td>\n",
              "      <td>NaN</td>\n",
              "      <td>NaN</td>\n",
              "    </tr>\n",
              "    <tr>\n",
              "      <th>2722</th>\n",
              "      <td>Sam Smith</td>\n",
              "      <td>28\\n</td>\n",
              "      <td>Latch (song)</td>\n",
              "      <td>/wiki/Latch_(song)</td>\n",
              "      <td>\"Latch (song)\"</td>\n",
              "      <td>/wiki/Sam_Smith_(singer)</td>\n",
              "      <td>2014</td>\n",
              "      <td>NaN</td>\n",
              "      <td>NaN</td>\n",
              "    </tr>\n",
              "    <tr>\n",
              "      <th>2723</th>\n",
              "      <td>Sam Smith</td>\n",
              "      <td>82\\n</td>\n",
              "      <td>La La La (Naughty Boy song)</td>\n",
              "      <td>/wiki/La_La_La_(Naughty_Boy_song)</td>\n",
              "      <td>\"La La La (Naughty Boy song)\"</td>\n",
              "      <td>/wiki/Sam_Smith_(singer)</td>\n",
              "      <td>2014</td>\n",
              "      <td>NaN</td>\n",
              "      <td>NaN</td>\n",
              "    </tr>\n",
              "    <tr>\n",
              "      <th>2724</th>\n",
              "      <td>Bastille</td>\n",
              "      <td>12\\n</td>\n",
              "      <td>Pompeii (Bastille song)</td>\n",
              "      <td>/wiki/Pompeii_(Bastille_song)</td>\n",
              "      <td>\"Pompeii (Bastille song)\"</td>\n",
              "      <td>/wiki/Bastille_(band)</td>\n",
              "      <td>2014</td>\n",
              "      <td>NaN</td>\n",
              "      <td>NaN</td>\n",
              "    </tr>\n",
              "    <tr>\n",
              "      <th>2725</th>\n",
              "      <td>Nico &amp; Vinz</td>\n",
              "      <td>14\\n</td>\n",
              "      <td>Am I Wrong (song)</td>\n",
              "      <td>/wiki/Am_I_Wrong_(song)</td>\n",
              "      <td>\"Am I Wrong (song)\"</td>\n",
              "      <td>/wiki/Nico_%26_Vinz</td>\n",
              "      <td>2014</td>\n",
              "      <td>NaN</td>\n",
              "      <td>NaN</td>\n",
              "    </tr>\n",
              "    <tr>\n",
              "      <th>2726</th>\n",
              "      <td>Magic!</td>\n",
              "      <td>7\\n</td>\n",
              "      <td>Rude (song)</td>\n",
              "      <td>/wiki/Rude_(song)</td>\n",
              "      <td>\"Rude (song)\"</td>\n",
              "      <td>/wiki/Magic!</td>\n",
              "      <td>2014</td>\n",
              "      <td>NaN</td>\n",
              "      <td>NaN</td>\n",
              "    </tr>\n",
              "    <tr>\n",
              "      <th>2727</th>\n",
              "      <td>BJ the Chicago Kid</td>\n",
              "      <td>96\\n</td>\n",
              "      <td>Studio (song)</td>\n",
              "      <td>/wiki/Studio_(song)</td>\n",
              "      <td>\"Studio (song)\"</td>\n",
              "      <td>/wiki/BJ_the_Chicago_Kid</td>\n",
              "      <td>2014</td>\n",
              "      <td>NaN</td>\n",
              "      <td>NaN</td>\n",
              "    </tr>\n",
              "    <tr>\n",
              "      <th>2728</th>\n",
              "      <td>A Great Big World</td>\n",
              "      <td>17\\n</td>\n",
              "      <td>Say Something (A Great Big World song)</td>\n",
              "      <td>/wiki/Say_Something_(A_Great_Big_World_song)</td>\n",
              "      <td>\"Say Something (A Great Big World song)\"</td>\n",
              "      <td>/wiki/A_Great_Big_World</td>\n",
              "      <td>2014</td>\n",
              "      <td>NaN</td>\n",
              "      <td>NaN</td>\n",
              "    </tr>\n",
              "    <tr>\n",
              "      <th>2729</th>\n",
              "      <td>Rita Ora</td>\n",
              "      <td>26\\n</td>\n",
              "      <td>Black Widow (Iggy Azalea song)</td>\n",
              "      <td>/wiki/Black_Widow_(Iggy_Azalea_song)</td>\n",
              "      <td>\"Black Widow (Iggy Azalea song)\"</td>\n",
              "      <td>/wiki/Rita_Ora</td>\n",
              "      <td>2014</td>\n",
              "      <td>NaN</td>\n",
              "      <td>NaN</td>\n",
              "    </tr>\n",
              "    <tr>\n",
              "      <th>2730</th>\n",
              "      <td>Kid Ink</td>\n",
              "      <td>43\\n</td>\n",
              "      <td>Show Me (Kid Ink song)</td>\n",
              "      <td>/wiki/Show_Me_(Kid_Ink_song)</td>\n",
              "      <td>\"Show Me (Kid Ink song)\"</td>\n",
              "      <td>/wiki/Kid_Ink</td>\n",
              "      <td>2014</td>\n",
              "      <td>NaN</td>\n",
              "      <td>NaN</td>\n",
              "    </tr>\n",
              "    <tr>\n",
              "      <th>2731</th>\n",
              "      <td>French Montana</td>\n",
              "      <td>30\\n</td>\n",
              "      <td>Loyal (Chris Brown song)</td>\n",
              "      <td>/wiki/Loyal_(Chris_Brown_song)</td>\n",
              "      <td>\"Loyal (Chris Brown song)\"</td>\n",
              "      <td>/wiki/French_Montana</td>\n",
              "      <td>2014</td>\n",
              "      <td>NaN</td>\n",
              "      <td>NaN</td>\n",
              "    </tr>\n",
              "    <tr>\n",
              "      <th>2732</th>\n",
              "      <td>Gente de Zona</td>\n",
              "      <td>38\\n</td>\n",
              "      <td>Bailando (Enrique Iglesias song)</td>\n",
              "      <td>/wiki/Bailando_(Enrique_Iglesias_song)</td>\n",
              "      <td>\"Bailando (Enrique Iglesias song)\"</td>\n",
              "      <td>/wiki/Gente_de_Zona</td>\n",
              "      <td>2014</td>\n",
              "      <td>NaN</td>\n",
              "      <td>NaN</td>\n",
              "    </tr>\n",
              "    <tr>\n",
              "      <th>2733</th>\n",
              "      <td>Clean Bandit</td>\n",
              "      <td>41\\n</td>\n",
              "      <td>Rather Be (Clean Bandit song)</td>\n",
              "      <td>/wiki/Rather_Be_(Clean_Bandit_song)</td>\n",
              "      <td>\"Rather Be (Clean Bandit song)\"</td>\n",
              "      <td>/wiki/Clean_Bandit</td>\n",
              "      <td>2014</td>\n",
              "      <td>NaN</td>\n",
              "      <td>NaN</td>\n",
              "    </tr>\n",
              "    <tr>\n",
              "      <th>2734</th>\n",
              "      <td>Jess Glynne</td>\n",
              "      <td>41\\n</td>\n",
              "      <td>Rather Be (Clean Bandit song)</td>\n",
              "      <td>/wiki/Rather_Be_(Clean_Bandit_song)</td>\n",
              "      <td>\"Rather Be (Clean Bandit song)\"</td>\n",
              "      <td>/wiki/Jess_Glynne</td>\n",
              "      <td>2014</td>\n",
              "      <td>NaN</td>\n",
              "      <td>NaN</td>\n",
              "    </tr>\n",
              "    <tr>\n",
              "      <th>2735</th>\n",
              "      <td>ScHoolboy Q</td>\n",
              "      <td>96\\n</td>\n",
              "      <td>Studio (song)</td>\n",
              "      <td>/wiki/Studio_(song)</td>\n",
              "      <td>\"Studio (song)\"</td>\n",
              "      <td>/wiki/ScHoolboy_Q</td>\n",
              "      <td>2014</td>\n",
              "      <td>NaN</td>\n",
              "      <td>NaN</td>\n",
              "    </tr>\n",
              "    <tr>\n",
              "      <th>2736</th>\n",
              "      <td>ScHoolboy Q</td>\n",
              "      <td>65\\n</td>\n",
              "      <td>2 On</td>\n",
              "      <td>/wiki/2_On</td>\n",
              "      <td>\"2 On\"</td>\n",
              "      <td>/wiki/ScHoolboy_Q</td>\n",
              "      <td>2014</td>\n",
              "      <td>NaN</td>\n",
              "      <td>NaN</td>\n",
              "    </tr>\n",
              "    <tr>\n",
              "      <th>2737</th>\n",
              "      <td>ScHoolboy Q</td>\n",
              "      <td>92\\n</td>\n",
              "      <td>White Walls</td>\n",
              "      <td>/wiki/White_Walls</td>\n",
              "      <td>\"White Walls\"</td>\n",
              "      <td>/wiki/ScHoolboy_Q</td>\n",
              "      <td>2014</td>\n",
              "      <td>NaN</td>\n",
              "      <td>NaN</td>\n",
              "    </tr>\n",
              "    <tr>\n",
              "      <th>2738</th>\n",
              "      <td>Descemer Bueno</td>\n",
              "      <td>38\\n</td>\n",
              "      <td>Bailando (Enrique Iglesias song)</td>\n",
              "      <td>/wiki/Bailando_(Enrique_Iglesias_song)</td>\n",
              "      <td>\"Bailando (Enrique Iglesias song)\"</td>\n",
              "      <td>/wiki/Descemer_Bueno</td>\n",
              "      <td>2014</td>\n",
              "      <td>NaN</td>\n",
              "      <td>NaN</td>\n",
              "    </tr>\n",
              "    <tr>\n",
              "      <th>2739</th>\n",
              "      <td>Tove Lo</td>\n",
              "      <td>32\\n</td>\n",
              "      <td>Habits (Stay High)</td>\n",
              "      <td>/wiki/Habits_(Stay_High)</td>\n",
              "      <td>\"Habits (Stay High)\"</td>\n",
              "      <td>/wiki/Tove_Lo</td>\n",
              "      <td>2014</td>\n",
              "      <td>NaN</td>\n",
              "      <td>NaN</td>\n",
              "    </tr>\n",
              "    <tr>\n",
              "      <th>2740</th>\n",
              "      <td>DJ Snake</td>\n",
              "      <td>15\\n</td>\n",
              "      <td>Turn Down for What</td>\n",
              "      <td>/wiki/Turn_Down_for_What</td>\n",
              "      <td>\"Turn Down for What\"</td>\n",
              "      <td>/wiki/DJ_Snake</td>\n",
              "      <td>2014</td>\n",
              "      <td>NaN</td>\n",
              "      <td>NaN</td>\n",
              "    </tr>\n",
              "    <tr>\n",
              "      <th>2741</th>\n",
              "      <td>Disclosure</td>\n",
              "      <td>28\\n</td>\n",
              "      <td>Latch (song)</td>\n",
              "      <td>/wiki/Latch_(song)</td>\n",
              "      <td>\"Latch (song)\"</td>\n",
              "      <td>/wiki/Disclosure_(band)</td>\n",
              "      <td>2014</td>\n",
              "      <td>NaN</td>\n",
              "      <td>NaN</td>\n",
              "    </tr>\n",
              "    <tr>\n",
              "      <th>2742</th>\n",
              "      <td>Rich Homie Quan</td>\n",
              "      <td>58\\n</td>\n",
              "      <td>My Nigga</td>\n",
              "      <td>/wiki/My_Nigga</td>\n",
              "      <td>\"My Nigga\"</td>\n",
              "      <td>/wiki/Rich_Homie_Quan</td>\n",
              "      <td>2014</td>\n",
              "      <td>NaN</td>\n",
              "      <td>NaN</td>\n",
              "    </tr>\n",
              "    <tr>\n",
              "      <th>2743</th>\n",
              "      <td>Rich Homie Quan</td>\n",
              "      <td>72\\n</td>\n",
              "      <td>Lifestyle (song)</td>\n",
              "      <td>/wiki/Lifestyle_(song)</td>\n",
              "      <td>\"Lifestyle (song)\"</td>\n",
              "      <td>/wiki/Rich_Homie_Quan</td>\n",
              "      <td>2014</td>\n",
              "      <td>NaN</td>\n",
              "      <td>NaN</td>\n",
              "    </tr>\n",
              "    <tr>\n",
              "      <th>2744</th>\n",
              "      <td>Tinashe</td>\n",
              "      <td>65\\n</td>\n",
              "      <td>2 On</td>\n",
              "      <td>/wiki/2_On</td>\n",
              "      <td>\"2 On\"</td>\n",
              "      <td>/wiki/Tinashe</td>\n",
              "      <td>2014</td>\n",
              "      <td>NaN</td>\n",
              "      <td>NaN</td>\n",
              "    </tr>\n",
              "    <tr>\n",
              "      <th>2745</th>\n",
              "      <td>Rich Gang</td>\n",
              "      <td>72\\n</td>\n",
              "      <td>Lifestyle (song)</td>\n",
              "      <td>/wiki/Lifestyle_(song)</td>\n",
              "      <td>\"Lifestyle (song)\"</td>\n",
              "      <td>/wiki/Rich_Gang</td>\n",
              "      <td>2014</td>\n",
              "      <td>NaN</td>\n",
              "      <td>NaN</td>\n",
              "    </tr>\n",
              "    <tr>\n",
              "      <th>2746</th>\n",
              "      <td>Young Thug</td>\n",
              "      <td>72\\n</td>\n",
              "      <td>Lifestyle (song)</td>\n",
              "      <td>/wiki/Lifestyle_(song)</td>\n",
              "      <td>\"Lifestyle (song)\"</td>\n",
              "      <td>/wiki/Young_Thug</td>\n",
              "      <td>2014</td>\n",
              "      <td>NaN</td>\n",
              "      <td>NaN</td>\n",
              "    </tr>\n",
              "    <tr>\n",
              "      <th>2747</th>\n",
              "      <td>Naughty Boy</td>\n",
              "      <td>82\\n</td>\n",
              "      <td>La La La (Naughty Boy song)</td>\n",
              "      <td>/wiki/La_La_La_(Naughty_Boy_song)</td>\n",
              "      <td>\"La La La (Naughty Boy song)\"</td>\n",
              "      <td>/wiki/Naughty_Boy</td>\n",
              "      <td>2014</td>\n",
              "      <td>NaN</td>\n",
              "      <td>NaN</td>\n",
              "    </tr>\n",
              "    <tr>\n",
              "      <th>2748</th>\n",
              "      <td>Hollis</td>\n",
              "      <td>92\\n</td>\n",
              "      <td>White Walls</td>\n",
              "      <td>/wiki/White_Walls</td>\n",
              "      <td>\"White Walls\"</td>\n",
              "      <td>/wiki/Hollis_(singer)</td>\n",
              "      <td>2014</td>\n",
              "      <td>NaN</td>\n",
              "      <td>NaN</td>\n",
              "    </tr>\n",
              "    <tr>\n",
              "      <th>2749</th>\n",
              "      <td>Mike WiLL Made-It</td>\n",
              "      <td>90\\n</td>\n",
              "      <td>23 (song)</td>\n",
              "      <td>/wiki/23_(song)</td>\n",
              "      <td>\"23 (song)\"</td>\n",
              "      <td>/wiki/Mike_Will_Made_It</td>\n",
              "      <td>2014</td>\n",
              "      <td>NaN</td>\n",
              "      <td>NaN</td>\n",
              "    </tr>\n",
              "  </tbody>\n",
              "</table>\n",
              "<p>2750 rows × 9 columns</p>\n",
              "</div>"
            ],
            "text/plain": [
              "             band_singer ranking                                        song                                            songurl                                    titletext                        url  year   born                    ya\n",
              "0            Boyz II Men     1\\n                             End of the Road                              /wiki/End_of_the_Road                            \"End of the Road\"          /wiki/Boyz_II_Men  1992  False          1985–present\n",
              "1            Boyz II Men    37\\n  \"It's So Hard to Say Goodbye to Yesterday\"   /wiki/It%27s_So_Hard_to_Say_Goodbye_to_Yesterday   \"It's So Hard to Say Goodbye to Yesterday\"          /wiki/Boyz_II_Men  1992  False          1985–present\n",
              "2            Boyz II Men    84\\n                                     Uhh Ahh                                      /wiki/Uhh_Ahh                                    \"Uhh Ahh\"          /wiki/Boyz_II_Men  1992  False          1985–present\n",
              "3            Boyz II Men    12\\n       In the Still of the Night (1956 song)  /wiki/In_the_Still_of_the_Night_(1956_song)#Bo...      \"In the Still of the Night (1956 song)\"          /wiki/Boyz_II_Men  1993  False          1985–present\n",
              "4            Boyz II Men     3\\n                     \"I'll Make Love to You\"                      /wiki/I%27ll_Make_Love_to_You                      \"I'll Make Love to You\"          /wiki/Boyz_II_Men  1994  False          1985–present\n",
              "5            Boyz II Men     5\\n                              On Bended Knee                               /wiki/On_Bended_Knee                             \"On Bended Knee\"          /wiki/Boyz_II_Men  1995  False          1985–present\n",
              "6            Boyz II Men    50\\n                     \"I'll Make Love to You\"                      /wiki/I%27ll_Make_Love_to_You                      \"I'll Make Love to You\"          /wiki/Boyz_II_Men  1995  False          1985–present\n",
              "7            Boyz II Men    12\\n                              Water Runs Dry                               /wiki/Water_Runs_Dry                             \"Water Runs Dry\"          /wiki/Boyz_II_Men  1995  False          1985–present\n",
              "8            Boyz II Men    94\\n                Thank You (Boyz II Men song)                 /wiki/Thank_You_(Boyz_II_Men_song)               \"Thank You (Boyz II Men song)\"          /wiki/Boyz_II_Men  1995  False          1985–present\n",
              "9            Boyz II Men     2\\n                               One Sweet Day                                /wiki/One_Sweet_Day                              \"One Sweet Day\"          /wiki/Boyz_II_Men  1996  False          1985–present\n",
              "10           Boyz II Men    30\\n                     4 Seasons of Loneliness                      /wiki/4_Seasons_of_Loneliness                    \"4 Seasons of Loneliness\"          /wiki/Boyz_II_Men  1997  False          1985–present\n",
              "11           Boyz II Men    30\\n                             A Song for Mama                              /wiki/A_Song_for_Mama                            \"A Song for Mama\"          /wiki/Boyz_II_Men  1998  False          1985–present\n",
              "12           Boyz II Men    96\\n                     4 Seasons of Loneliness                      /wiki/4_Seasons_of_Loneliness                    \"4 Seasons of Loneliness\"          /wiki/Boyz_II_Men  1998  False          1985–present\n",
              "13         Sir Mix-a-Lot     2\\n                               Baby Got Back                                /wiki/Baby_Got_Back                              \"Baby Got Back\"        /wiki/Sir_Mix-a-Lot  1992    NaN                   NaN\n",
              "14            Kris Kross     3\\n                      Jump (Kris Kross song)                       /wiki/Jump_(Kris_Kross_song)                     \"Jump (Kris Kross song)\"           /wiki/Kris_Kross  1992  False  1991–1996, 2006–2013\n",
              "15            Kris Kross    65\\n                                  Warm It Up                                   /wiki/Warm_It_Up                                 \"Warm It Up\"           /wiki/Kris_Kross  1992  False  1991–1996, 2006–2013\n",
              "16            Kris Kross    85\\n                   Alright (Kris Kross song)                    /wiki/Alright_(Kris_Kross_song)                  \"Alright (Kris Kross song)\"           /wiki/Kris_Kross  1993  False  1991–1996, 2006–2013\n",
              "17            Kris Kross    64\\n                        \"Tonite's tha Night\"                         /wiki/Tonite%27s_tha_Night                         \"Tonite's tha Night\"           /wiki/Kris_Kross  1996  False  1991–1996, 2006–2013\n",
              "18      Vanessa Williams     4\\n                      Save the Best for Last                       /wiki/Save_the_Best_for_Last                     \"Save the Best for Last\"  /wiki/Vanessa_L._Williams  1992    NaN                   NaN\n",
              "19      Vanessa Williams    21\\n             Love Is (Vanessa Williams song)              /wiki/Love_Is_(Vanessa_Williams_song)            \"Love Is (Vanessa Williams song)\"  /wiki/Vanessa_L._Williams  1993    NaN                   NaN\n",
              "20      Vanessa Williams    75\\n   The Sweetest Days (Vanessa Williams song)    /wiki/The_Sweetest_Days_(Vanessa_Williams_song)  \"The Sweetest Days (Vanessa Williams song)\"  /wiki/Vanessa_L._Williams  1995    NaN                   NaN\n",
              "21      Vanessa Williams    31\\n                          Colors of the Wind                           /wiki/Colors_of_the_Wind                         \"Colors of the Wind\"  /wiki/Vanessa_L._Williams  1995    NaN                   NaN\n",
              "22                   TLC     5\\n                              Baby-Baby-Baby                               /wiki/Baby-Baby-Baby                             \"Baby-Baby-Baby\"           /wiki/TLC_(band)  1992  False          1990–present\n",
              "23                   TLC    36\\n                       \"Ain't 2 Proud 2 Beg\"                        /wiki/Ain%27t_2_Proud_2_Beg                        \"Ain't 2 Proud 2 Beg\"           /wiki/TLC_(band)  1992  False          1990–present\n",
              "24                   TLC    88\\n                     What About Your Friends                      /wiki/What_About_Your_Friends                    \"What About Your Friends\"           /wiki/TLC_(band)  1992  False          1990–present\n",
              "25                   TLC    62\\n                     What About Your Friends                      /wiki/What_About_Your_Friends                    \"What About Your Friends\"           /wiki/TLC_(band)  1993  False          1990–present\n",
              "26                   TLC     3\\n                            Creep (TLC song)                             /wiki/Creep_(TLC_song)                           \"Creep (TLC song)\"           /wiki/TLC_(band)  1995  False          1990–present\n",
              "27                   TLC     2\\n                       Waterfalls (TLC song)                        /wiki/Waterfalls_(TLC_song)                      \"Waterfalls (TLC song)\"           /wiki/TLC_(band)  1995  False          1990–present\n",
              "28                   TLC    28\\n                           Red Light Special                            /wiki/Red_Light_Special                          \"Red Light Special\"           /wiki/TLC_(band)  1995  False          1990–present\n",
              "29                   TLC    45\\n                            \"Diggin' on You\"                             /wiki/Diggin%27_on_You                             \"Diggin' on You\"           /wiki/TLC_(band)  1996  False          1990–present\n",
              "...                  ...     ...                                         ...                                                ...                                          ...                        ...   ...    ...                   ...\n",
              "2720      Meghan Trainor     8\\n                         All About That Bass                          /wiki/All_About_That_Bass                        \"All About That Bass\"       /wiki/Meghan_Trainor  2014    NaN                   NaN\n",
              "2721           Sam Smith    10\\n               Stay with Me (Sam Smith song)                /wiki/Stay_with_Me_(Sam_Smith_song)              \"Stay with Me (Sam Smith song)\"   /wiki/Sam_Smith_(singer)  2014    NaN                   NaN\n",
              "2722           Sam Smith    28\\n                                Latch (song)                                 /wiki/Latch_(song)                               \"Latch (song)\"   /wiki/Sam_Smith_(singer)  2014    NaN                   NaN\n",
              "2723           Sam Smith    82\\n                 La La La (Naughty Boy song)                  /wiki/La_La_La_(Naughty_Boy_song)                \"La La La (Naughty Boy song)\"   /wiki/Sam_Smith_(singer)  2014    NaN                   NaN\n",
              "2724            Bastille    12\\n                     Pompeii (Bastille song)                      /wiki/Pompeii_(Bastille_song)                    \"Pompeii (Bastille song)\"      /wiki/Bastille_(band)  2014    NaN                   NaN\n",
              "2725         Nico & Vinz    14\\n                           Am I Wrong (song)                            /wiki/Am_I_Wrong_(song)                          \"Am I Wrong (song)\"        /wiki/Nico_%26_Vinz  2014    NaN                   NaN\n",
              "2726              Magic!     7\\n                                 Rude (song)                                  /wiki/Rude_(song)                                \"Rude (song)\"               /wiki/Magic!  2014    NaN                   NaN\n",
              "2727  BJ the Chicago Kid    96\\n                               Studio (song)                                /wiki/Studio_(song)                              \"Studio (song)\"   /wiki/BJ_the_Chicago_Kid  2014    NaN                   NaN\n",
              "2728   A Great Big World    17\\n      Say Something (A Great Big World song)       /wiki/Say_Something_(A_Great_Big_World_song)     \"Say Something (A Great Big World song)\"    /wiki/A_Great_Big_World  2014    NaN                   NaN\n",
              "2729            Rita Ora    26\\n              Black Widow (Iggy Azalea song)               /wiki/Black_Widow_(Iggy_Azalea_song)             \"Black Widow (Iggy Azalea song)\"             /wiki/Rita_Ora  2014    NaN                   NaN\n",
              "2730             Kid Ink    43\\n                      Show Me (Kid Ink song)                       /wiki/Show_Me_(Kid_Ink_song)                     \"Show Me (Kid Ink song)\"              /wiki/Kid_Ink  2014    NaN                   NaN\n",
              "2731      French Montana    30\\n                    Loyal (Chris Brown song)                     /wiki/Loyal_(Chris_Brown_song)                   \"Loyal (Chris Brown song)\"       /wiki/French_Montana  2014    NaN                   NaN\n",
              "2732       Gente de Zona    38\\n            Bailando (Enrique Iglesias song)             /wiki/Bailando_(Enrique_Iglesias_song)           \"Bailando (Enrique Iglesias song)\"        /wiki/Gente_de_Zona  2014    NaN                   NaN\n",
              "2733        Clean Bandit    41\\n               Rather Be (Clean Bandit song)                /wiki/Rather_Be_(Clean_Bandit_song)              \"Rather Be (Clean Bandit song)\"         /wiki/Clean_Bandit  2014    NaN                   NaN\n",
              "2734         Jess Glynne    41\\n               Rather Be (Clean Bandit song)                /wiki/Rather_Be_(Clean_Bandit_song)              \"Rather Be (Clean Bandit song)\"          /wiki/Jess_Glynne  2014    NaN                   NaN\n",
              "2735         ScHoolboy Q    96\\n                               Studio (song)                                /wiki/Studio_(song)                              \"Studio (song)\"          /wiki/ScHoolboy_Q  2014    NaN                   NaN\n",
              "2736         ScHoolboy Q    65\\n                                        2 On                                         /wiki/2_On                                       \"2 On\"          /wiki/ScHoolboy_Q  2014    NaN                   NaN\n",
              "2737         ScHoolboy Q    92\\n                                 White Walls                                  /wiki/White_Walls                                \"White Walls\"          /wiki/ScHoolboy_Q  2014    NaN                   NaN\n",
              "2738      Descemer Bueno    38\\n            Bailando (Enrique Iglesias song)             /wiki/Bailando_(Enrique_Iglesias_song)           \"Bailando (Enrique Iglesias song)\"       /wiki/Descemer_Bueno  2014    NaN                   NaN\n",
              "2739             Tove Lo    32\\n                          Habits (Stay High)                           /wiki/Habits_(Stay_High)                         \"Habits (Stay High)\"              /wiki/Tove_Lo  2014    NaN                   NaN\n",
              "2740            DJ Snake    15\\n                          Turn Down for What                           /wiki/Turn_Down_for_What                         \"Turn Down for What\"             /wiki/DJ_Snake  2014    NaN                   NaN\n",
              "2741          Disclosure    28\\n                                Latch (song)                                 /wiki/Latch_(song)                               \"Latch (song)\"    /wiki/Disclosure_(band)  2014    NaN                   NaN\n",
              "2742     Rich Homie Quan    58\\n                                    My Nigga                                     /wiki/My_Nigga                                   \"My Nigga\"      /wiki/Rich_Homie_Quan  2014    NaN                   NaN\n",
              "2743     Rich Homie Quan    72\\n                            Lifestyle (song)                             /wiki/Lifestyle_(song)                           \"Lifestyle (song)\"      /wiki/Rich_Homie_Quan  2014    NaN                   NaN\n",
              "2744             Tinashe    65\\n                                        2 On                                         /wiki/2_On                                       \"2 On\"              /wiki/Tinashe  2014    NaN                   NaN\n",
              "2745           Rich Gang    72\\n                            Lifestyle (song)                             /wiki/Lifestyle_(song)                           \"Lifestyle (song)\"            /wiki/Rich_Gang  2014    NaN                   NaN\n",
              "2746          Young Thug    72\\n                            Lifestyle (song)                             /wiki/Lifestyle_(song)                           \"Lifestyle (song)\"           /wiki/Young_Thug  2014    NaN                   NaN\n",
              "2747         Naughty Boy    82\\n                 La La La (Naughty Boy song)                  /wiki/La_La_La_(Naughty_Boy_song)                \"La La La (Naughty Boy song)\"          /wiki/Naughty_Boy  2014    NaN                   NaN\n",
              "2748              Hollis    92\\n                                 White Walls                                  /wiki/White_Walls                                \"White Walls\"      /wiki/Hollis_(singer)  2014    NaN                   NaN\n",
              "2749   Mike WiLL Made-It    90\\n                                   23 (song)                                    /wiki/23_(song)                                  \"23 (song)\"    /wiki/Mike_Will_Made_It  2014    NaN                   NaN\n",
              "\n",
              "[2750 rows x 9 columns]"
            ]
          },
          "metadata": {
            "tags": []
          },
          "execution_count": 87
        }
      ]
    }
  ]
}